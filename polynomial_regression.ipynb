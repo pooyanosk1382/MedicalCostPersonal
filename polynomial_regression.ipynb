{
 "nbformat": 4,
 "nbformat_minor": 0,
 "metadata": {
  "colab": {
   "name": "polynomial_regression.ipynb",
   "provenance": [],
   "collapsed_sections": [],
   "toc_visible": true
  },
  "kernelspec": {
   "name": "python3",
   "display_name": "Python 3"
  }
 },
 "cells": [
  {
   "cell_type": "markdown",
   "metadata": {
    "id": "vN99YjPTDena",
    "colab_type": "text",
    "pycharm": {
     "name": "#%% md\n"
    }
   },
   "source": [
    "# Polynomial Regression"
   ]
  },
  {
   "cell_type": "markdown",
   "metadata": {
    "id": "ZIx_naXnDyHd",
    "colab_type": "text",
    "pycharm": {
     "name": "#%% md\n"
    }
   },
   "source": [
    "## Importing the libraries"
   ]
  },
  {
   "cell_type": "code",
   "metadata": {
    "id": "FjnmdyPLD2tS",
    "colab_type": "code",
    "colab": {},
    "pycharm": {
     "name": "#%%\n"
    }
   },
   "source": [
    "import numpy as np\n",
    "import matplotlib.pyplot as plt\n",
    "import pandas as pd"
   ],
   "execution_count": 1,
   "outputs": []
  },
  {
   "cell_type": "markdown",
   "metadata": {
    "id": "6c8YExmOD5x5",
    "colab_type": "text",
    "pycharm": {
     "name": "#%% md\n"
    }
   },
   "source": [
    "## Importing the dataset"
   ]
  },
  {
   "cell_type": "code",
   "metadata": {
    "id": "nQOdXhjXD_AE",
    "colab_type": "code",
    "colab": {},
    "pycharm": {
     "name": "#%%\n"
    }
   },
   "source": [
    "dataset = pd.read_csv('insurance.csv')\n",
    "X = dataset.iloc[:, :-1].values\n",
    "y = dataset.iloc[:, -1].values"
   ],
   "execution_count": 2,
   "outputs": []
  },
  {
   "cell_type": "markdown",
   "source": [
    "## Encoding categorical data"
   ],
   "metadata": {
    "collapsed": false,
    "pycharm": {
     "name": "#%% md\n"
    }
   }
  },
  {
   "cell_type": "code",
   "execution_count": 3,
   "outputs": [
    {
     "name": "stdout",
     "output_type": "stream",
     "text": [
      "[[0.0 0.0 0.0 ... 27.9 0 1]\n",
      " [0.0 0.0 1.0 ... 33.77 1 0]\n",
      " [0.0 0.0 1.0 ... 33.0 3 0]\n",
      " ...\n",
      " [0.0 0.0 1.0 ... 36.85 0 0]\n",
      " [0.0 0.0 0.0 ... 25.8 0 0]\n",
      " [0.0 1.0 0.0 ... 29.07 0 1]]\n"
     ]
    }
   ],
   "source": [
    "from sklearn.compose import ColumnTransformer\n",
    "from sklearn.preprocessing import LabelEncoder\n",
    "from sklearn.preprocessing import OneHotEncoder\n",
    "le = LabelEncoder()\n",
    "X[:, 1] = le.fit_transform(X[:, 1])\n",
    "X[:, 4] = le.fit_transform(X[:, 4])\n",
    "ct = ColumnTransformer(transformers=[('encoder', OneHotEncoder(), [5])], remainder='passthrough')\n",
    "X = np.array(ct.fit_transform(X))\n",
    "print(X)"
   ],
   "metadata": {
    "collapsed": false,
    "pycharm": {
     "name": "#%%\n"
    }
   }
  },
  {
   "cell_type": "markdown",
   "metadata": {
    "id": "Ud_1XTb28iXH",
    "colab_type": "text",
    "pycharm": {
     "name": "#%% md\n"
    }
   },
   "source": [
    "## Splitting the dataset into the Training set and Test set"
   ]
  },
  {
   "cell_type": "code",
   "metadata": {
    "id": "bUib_pbl8ipB",
    "colab_type": "code",
    "colab": {},
    "pycharm": {
     "name": "#%%\n"
    }
   },
   "source": [
    "from sklearn.model_selection import train_test_split\n",
    "X_train, X_test, y_train, y_test = train_test_split(X, y, test_size = 0.2, random_state = 0)"
   ],
   "execution_count": 4,
   "outputs": []
  },
  {
   "cell_type": "markdown",
   "metadata": {
    "id": "Rb5nWuSHEfBV",
    "colab_type": "text",
    "pycharm": {
     "name": "#%% md\n"
    }
   },
   "source": [
    "## Training the Polynomial Regression model on the Training set"
   ]
  },
  {
   "cell_type": "code",
   "metadata": {
    "id": "HYplp4pTEm0O",
    "colab_type": "code",
    "colab": {},
    "pycharm": {
     "name": "#%%\n"
    }
   },
   "source": [
    "from sklearn.preprocessing import PolynomialFeatures\n",
    "from sklearn.linear_model import LinearRegression\n",
    "poly_reg = PolynomialFeatures(degree = 4)\n",
    "X_poly = poly_reg.fit_transform(X_train)\n",
    "regressor = LinearRegression()\n",
    "regressor.fit(X_poly, y_train)"
   ],
   "execution_count": 5,
   "outputs": [
    {
     "data": {
      "text/plain": "LinearRegression()",
      "text/html": "<style>#sk-container-id-1 {color: black;background-color: white;}#sk-container-id-1 pre{padding: 0;}#sk-container-id-1 div.sk-toggleable {background-color: white;}#sk-container-id-1 label.sk-toggleable__label {cursor: pointer;display: block;width: 100%;margin-bottom: 0;padding: 0.3em;box-sizing: border-box;text-align: center;}#sk-container-id-1 label.sk-toggleable__label-arrow:before {content: \"▸\";float: left;margin-right: 0.25em;color: #696969;}#sk-container-id-1 label.sk-toggleable__label-arrow:hover:before {color: black;}#sk-container-id-1 div.sk-estimator:hover label.sk-toggleable__label-arrow:before {color: black;}#sk-container-id-1 div.sk-toggleable__content {max-height: 0;max-width: 0;overflow: hidden;text-align: left;background-color: #f0f8ff;}#sk-container-id-1 div.sk-toggleable__content pre {margin: 0.2em;color: black;border-radius: 0.25em;background-color: #f0f8ff;}#sk-container-id-1 input.sk-toggleable__control:checked~div.sk-toggleable__content {max-height: 200px;max-width: 100%;overflow: auto;}#sk-container-id-1 input.sk-toggleable__control:checked~label.sk-toggleable__label-arrow:before {content: \"▾\";}#sk-container-id-1 div.sk-estimator input.sk-toggleable__control:checked~label.sk-toggleable__label {background-color: #d4ebff;}#sk-container-id-1 div.sk-label input.sk-toggleable__control:checked~label.sk-toggleable__label {background-color: #d4ebff;}#sk-container-id-1 input.sk-hidden--visually {border: 0;clip: rect(1px 1px 1px 1px);clip: rect(1px, 1px, 1px, 1px);height: 1px;margin: -1px;overflow: hidden;padding: 0;position: absolute;width: 1px;}#sk-container-id-1 div.sk-estimator {font-family: monospace;background-color: #f0f8ff;border: 1px dotted black;border-radius: 0.25em;box-sizing: border-box;margin-bottom: 0.5em;}#sk-container-id-1 div.sk-estimator:hover {background-color: #d4ebff;}#sk-container-id-1 div.sk-parallel-item::after {content: \"\";width: 100%;border-bottom: 1px solid gray;flex-grow: 1;}#sk-container-id-1 div.sk-label:hover label.sk-toggleable__label {background-color: #d4ebff;}#sk-container-id-1 div.sk-serial::before {content: \"\";position: absolute;border-left: 1px solid gray;box-sizing: border-box;top: 0;bottom: 0;left: 50%;z-index: 0;}#sk-container-id-1 div.sk-serial {display: flex;flex-direction: column;align-items: center;background-color: white;padding-right: 0.2em;padding-left: 0.2em;position: relative;}#sk-container-id-1 div.sk-item {position: relative;z-index: 1;}#sk-container-id-1 div.sk-parallel {display: flex;align-items: stretch;justify-content: center;background-color: white;position: relative;}#sk-container-id-1 div.sk-item::before, #sk-container-id-1 div.sk-parallel-item::before {content: \"\";position: absolute;border-left: 1px solid gray;box-sizing: border-box;top: 0;bottom: 0;left: 50%;z-index: -1;}#sk-container-id-1 div.sk-parallel-item {display: flex;flex-direction: column;z-index: 1;position: relative;background-color: white;}#sk-container-id-1 div.sk-parallel-item:first-child::after {align-self: flex-end;width: 50%;}#sk-container-id-1 div.sk-parallel-item:last-child::after {align-self: flex-start;width: 50%;}#sk-container-id-1 div.sk-parallel-item:only-child::after {width: 0;}#sk-container-id-1 div.sk-dashed-wrapped {border: 1px dashed gray;margin: 0 0.4em 0.5em 0.4em;box-sizing: border-box;padding-bottom: 0.4em;background-color: white;}#sk-container-id-1 div.sk-label label {font-family: monospace;font-weight: bold;display: inline-block;line-height: 1.2em;}#sk-container-id-1 div.sk-label-container {text-align: center;}#sk-container-id-1 div.sk-container {/* jupyter's `normalize.less` sets `[hidden] { display: none; }` but bootstrap.min.css set `[hidden] { display: none !important; }` so we also need the `!important` here to be able to override the default hidden behavior on the sphinx rendered scikit-learn.org. See: https://github.com/scikit-learn/scikit-learn/issues/21755 */display: inline-block !important;position: relative;}#sk-container-id-1 div.sk-text-repr-fallback {display: none;}</style><div id=\"sk-container-id-1\" class=\"sk-top-container\"><div class=\"sk-text-repr-fallback\"><pre>LinearRegression()</pre><b>In a Jupyter environment, please rerun this cell to show the HTML representation or trust the notebook. <br />On GitHub, the HTML representation is unable to render, please try loading this page with nbviewer.org.</b></div><div class=\"sk-container\" hidden><div class=\"sk-item\"><div class=\"sk-estimator sk-toggleable\"><input class=\"sk-toggleable__control sk-hidden--visually\" id=\"sk-estimator-id-1\" type=\"checkbox\" checked><label for=\"sk-estimator-id-1\" class=\"sk-toggleable__label sk-toggleable__label-arrow\">LinearRegression</label><div class=\"sk-toggleable__content\"><pre>LinearRegression()</pre></div></div></div></div></div>"
     },
     "execution_count": 5,
     "metadata": {},
     "output_type": "execute_result"
    }
   ]
  },
  {
   "cell_type": "markdown",
   "metadata": {
    "id": "pzF3BRps9nlk",
    "colab_type": "text",
    "pycharm": {
     "name": "#%% md\n"
    }
   },
   "source": [
    "## Predicting the Test set results"
   ]
  },
  {
   "cell_type": "code",
   "metadata": {
    "id": "36aFLFBK9pMk",
    "colab_type": "code",
    "colab": {},
    "pycharm": {
     "name": "#%%\n"
    }
   },
   "source": [
    "y_pred = regressor.predict(poly_reg.transform(X_test))\n",
    "np.set_printoptions(precision=2)\n",
    "print(np.concatenate((y_pred.reshape(len(y_pred),1), y_test.reshape(len(y_test),1)),1))"
   ],
   "execution_count": 6,
   "outputs": [
    {
     "name": "stdout",
     "output_type": "stream",
     "text": [
      "[[12191.9   9724.53]\n",
      " [ 9346.97  8547.69]\n",
      " [61741.81 45702.02]\n",
      " [10029.23 12950.07]\n",
      " [18605.01  9644.25]\n",
      " [ 2283.76  4500.34]\n",
      " [ 3423.56  2198.19]\n",
      " [12203.02 11436.74]\n",
      " [ 7866.38  7537.16]\n",
      " [ 9684.33  5425.02]\n",
      " [ 6233.28  6753.04]\n",
      " [10849.86 10493.95]\n",
      " [ 8878.65  7337.75]\n",
      " [ 7923.99  4185.1 ]\n",
      " [20792.77 18310.74]\n",
      " [15313.06 10702.64]\n",
      " [13913.07 12523.6 ]\n",
      " [ 8475.47  3490.55]\n",
      " [ 8178.59  6457.84]\n",
      " [29303.89 33475.82]\n",
      " [21370.18 23967.38]\n",
      " [15085.47 12643.38]\n",
      " [11310.79 23045.57]\n",
      " [29562.2  23065.42]\n",
      " [ 3847.32  1674.63]\n",
      " [ 9345.74  4667.61]\n",
      " [ 5436.56  3732.63]\n",
      " [ 9183.9   7682.67]\n",
      " [ 6850.84  3756.62]\n",
      " [10631.33  8413.46]\n",
      " [ 7520.36  8059.68]\n",
      " [48483.65 48970.25]\n",
      " [13570.45 12979.36]\n",
      " [10774.75 20630.28]\n",
      " [15835.93 14571.89]\n",
      " [ 5034.82  4137.52]\n",
      " [ 8507.52  8347.16]\n",
      " [40485.93 51194.56]\n",
      " [41458.73 40003.33]\n",
      " [ 3811.82  1880.49]\n",
      " [ 6625.05  5458.05]\n",
      " [ 4008.56  2867.12]\n",
      " [28821.02 20149.32]\n",
      " [57655.91 47496.49]\n",
      " [37395.84 36149.48]\n",
      " [ 8135.38 26018.95]\n",
      " [15284.74 19749.38]\n",
      " [ 8250.07  6940.91]\n",
      " [ 6143.14  4718.2 ]\n",
      " [14140.66 22192.44]\n",
      " [ 5756.62  2899.49]\n",
      " [ 9533.85 18838.7 ]\n",
      " [30403.69 23568.27]\n",
      " [43882.58 46255.11]\n",
      " [13321.84 24227.34]\n",
      " [ 6128.77  3268.85]\n",
      " [ 4006.3   2322.62]\n",
      " [11933.41  8827.21]\n",
      " [ 7762.59 14478.33]\n",
      " [16230.84 13112.6 ]\n",
      " [ 2132.34  1253.94]\n",
      " [47206.47 46718.16]\n",
      " [17132.55 13919.82]\n",
      " [10734.43  9630.4 ]\n",
      " [15563.1  10736.87]\n",
      " [10529.83  9880.07]\n",
      " [20837.78 32548.34]\n",
      " [45264.27 38746.36]\n",
      " [-2071.47  3180.51]\n",
      " [ 9792.69  8162.72]\n",
      " [14788.72 13041.92]\n",
      " [13967.37 11554.22]\n",
      " [17643.13 16232.85]\n",
      " [12404.15 13887.97]\n",
      " [13695.86 13012.21]\n",
      " [13341.27 13217.09]\n",
      " [ 7331.83  7147.1 ]\n",
      " [10834.04  7731.43]\n",
      " [23379.7  20296.86]\n",
      " [52009.36 47403.88]\n",
      " [12596.52 11658.38]\n",
      " [55823.3  45863.21]\n",
      " [ 4173.2   2055.32]\n",
      " [ 9026.79  7441.05]\n",
      " [39886.95 41034.22]\n",
      " [21200.12 18972.49]\n",
      " [  555.23  3410.32]\n",
      " [ 5543.61  2699.57]\n",
      " [15559.17 12333.83]\n",
      " [43098.95 36837.47]\n",
      " [13128.01  6334.34]\n",
      " [13635.54 10214.64]\n",
      " [ 1723.58 17878.9 ]\n",
      " [ 9300.58  8515.76]\n",
      " [ 5725.35  4518.83]\n",
      " [ 9893.98  5148.55]\n",
      " [37247.51 42303.69]\n",
      " [31890.74 38998.55]\n",
      " [ 8067.5   5327.4 ]\n",
      " [ 9548.92 10602.39]\n",
      " [ 4019.45  1824.29]\n",
      " [ 7782.71  5377.46]\n",
      " [ 4894.3   4349.46]\n",
      " [38534.53 37742.58]\n",
      " [26170.32 32787.46]\n",
      " [ 3959.25  3353.47]\n",
      " [ 8270.44 10577.09]\n",
      " [ 4846.99  3556.92]\n",
      " [11974.62 11944.59]\n",
      " [46191.47 52590.83]\n",
      " [13166.08 12475.35]\n",
      " [ 6149.52  4266.17]\n",
      " [10175.99  9249.5 ]\n",
      " [30150.96 33732.69]\n",
      " [48318.81 48675.52]\n",
      " [ 8625.75  7729.65]\n",
      " [ 1258.72  1964.78]\n",
      " [11211.06  8444.47]\n",
      " [14706.42 12347.17]\n",
      " [ 9861.51  9301.89]\n",
      " [42524.32 42124.52]\n",
      " [18481.8   9991.04]\n",
      " [14122.51 14319.03]\n",
      " [13053.48  5428.73]\n",
      " [ 9266.91  7626.99]\n",
      " [ 4832.75  4906.41]\n",
      " [26976.28 23401.31]\n",
      " [13335.28 21098.55]\n",
      " [50811.71 48173.36]\n",
      " [ 2474.43  1917.32]\n",
      " [ 8880.18  8219.2 ]\n",
      " [ 6939.93  1725.55]\n",
      " [ 5868.08  5976.83]\n",
      " [ 9164.15  9361.33]\n",
      " [35377.3  22144.03]\n",
      " [34237.25 35491.64]\n",
      " [27207.09 19515.54]\n",
      " [11943.26 10107.22]\n",
      " [24350.6  23244.79]\n",
      " [ 5099.26  2789.06]\n",
      " [ 2291.53  2261.57]\n",
      " [13527.94 10594.5 ]\n",
      " [ 9619.85  9304.7 ]\n",
      " [11013.3  10435.07]\n",
      " [ 5892.06  4894.75]\n",
      " [12243.62 14313.85]\n",
      " [13000.66 28287.9 ]\n",
      " [ 5101.63 14426.07]\n",
      " [ 2523.21  1627.28]\n",
      " [13103.75 25517.11]\n",
      " [ 8702.19  6555.07]\n",
      " [42598.33 39611.76]\n",
      " [12740.59  9964.06]\n",
      " [ 6965.74  1720.35]\n",
      " [ 2344.55  2730.11]\n",
      " [ 6532.3   6500.24]\n",
      " [ 5437.05  2643.27]\n",
      " [ 6848.37  1719.44]\n",
      " [10340.31 11085.59]\n",
      " [10263.35 10115.01]\n",
      " [11055.87  4846.92]\n",
      " [12840.55 12982.87]\n",
      " [12726.91 28923.14]\n",
      " [ 9454.08  9391.35]\n",
      " [ 4781.56  4544.23]\n",
      " [11286.31 17128.43]\n",
      " [14126.31 13844.51]\n",
      " [14593.35  6113.23]\n",
      " [ 5853.82  4441.21]\n",
      " [ 1852.92  1633.96]\n",
      " [ 8661.04  4058.71]\n",
      " [ 7431.46  4435.09]\n",
      " [ 8786.29  8310.84]\n",
      " [ 3722.64  1986.93]\n",
      " [ 4866.79  4260.74]\n",
      " [ 6039.77  4504.66]\n",
      " [ 5445.49  4428.89]\n",
      " [ 6242.48  6117.49]\n",
      " [39687.96 30184.94]\n",
      " [ 2522.53  1708.93]\n",
      " [12525.59 11187.66]\n",
      " [ 9420.77  6796.86]\n",
      " [12040.8  11356.66]\n",
      " [ 4351.05  2498.41]\n",
      " [ 5597.04 27375.9 ]\n",
      " [30013.24 28101.33]\n",
      " [ 5523.62  2254.8 ]\n",
      " [ 4857.13  2597.78]\n",
      " [11325.65 14692.67]\n",
      " [13983.16 10370.91]\n",
      " [38495.3  41097.16]\n",
      " [ 4131.78  3981.98]\n",
      " [ 7112.53  5472.45]\n",
      " [29842.46 21223.68]\n",
      " [ 4644.2   2534.39]\n",
      " [ 4569.5   1972.95]\n",
      " [ 9103.36  6406.41]\n",
      " [13811.81  6551.75]\n",
      " [ 8062.93  4058.12]\n",
      " [ 6264.29  4243.59]\n",
      " [14514.33 11512.41]\n",
      " [48017.56 46889.26]\n",
      " [14254.88 12268.63]\n",
      " [19258.23 19199.94]\n",
      " [ 8310.83  4433.39]\n",
      " [42834.61 42969.85]\n",
      " [ 6580.5  23241.47]\n",
      " [12355.23  9140.95]\n",
      " [ 5497.29  5836.52]\n",
      " [ -136.78  1149.4 ]\n",
      " [11252.4   8765.25]\n",
      " [14140.42 14043.48]\n",
      " [ 7014.22  5312.17]\n",
      " [ 4565.75 10795.94]\n",
      " [ 7758.9   6282.23]\n",
      " [ 3733.05  1969.61]\n",
      " [ 8304.47  6746.74]\n",
      " [ 6469.74  5354.07]\n",
      " [20888.34 14001.29]\n",
      " [ 7330.07  6877.98]\n",
      " [ 4455.53  6196.45]\n",
      " [ 8954.3   7986.48]\n",
      " [ 9097.06  8277.52]\n",
      " [ 3048.    3206.49]\n",
      " [12107.81 11848.14]\n",
      " [10136.7  14210.54]\n",
      " [13714.84 12265.51]\n",
      " [13756.7  11837.16]\n",
      " [ 7448.23  6652.53]\n",
      " [ 2601.46  2137.65]\n",
      " [ 3270.91  1131.51]\n",
      " [11124.52  8342.91]\n",
      " [12157.14 12244.53]\n",
      " [18433.52  4561.19]\n",
      " [ 4451.03 17626.24]\n",
      " [ 7110.62  6875.96]\n",
      " [11024.59  9447.38]\n",
      " [32067.37 34254.05]\n",
      " [ 7084.06  6067.13]\n",
      " [10534.88 11729.68]\n",
      " [ 6768.62  5383.54]\n",
      " [48703.75 37465.34]\n",
      " [ 7044.68  7371.77]\n",
      " [ 7813.78  7325.05]\n",
      " [10159.98  8410.05]\n",
      " [13697.05 10461.98]\n",
      " [ 7174.55  3279.87]\n",
      " [ 9739.84  7727.25]\n",
      " [ 2477.54  2731.91]\n",
      " [ 6513.94  6858.48]\n",
      " [23248.18 19521.97]\n",
      " [45252.45 47305.31]\n",
      " [ 6256.2   3987.93]\n",
      " [ 1343.63  3238.44]\n",
      " [ 4840.53  7323.73]\n",
      " [  913.83  1704.57]\n",
      " [ 8462.86  7445.92]\n",
      " [ 3852.38  1629.83]\n",
      " [ 8353.05  4877.98]\n",
      " [ 3434.06  3561.89]\n",
      " [10425.23  8605.36]\n",
      " [28411.63 24520.26]\n",
      " [35869.77 45710.21]\n",
      " [16881.88 15019.76]\n",
      " [ 8300.73  6664.69]\n",
      " [ 9189.17 20709.02]\n",
      " [41820.7  40932.43]\n",
      " [ 9771.75  9500.57]]\n"
     ]
    }
   ]
  },
  {
   "cell_type": "markdown",
   "metadata": {
    "id": "Fz1uTlWV919-",
    "colab_type": "text",
    "pycharm": {
     "name": "#%% md\n"
    }
   },
   "source": [
    "## Evaluating the Model Performance"
   ]
  },
  {
   "cell_type": "code",
   "metadata": {
    "id": "xvZQ_4W893-e",
    "colab_type": "code",
    "colab": {},
    "pycharm": {
     "name": "#%%\n"
    }
   },
   "source": [
    "from sklearn.metrics import r2_score\n",
    "r2_score(y_test, y_pred)"
   ],
   "execution_count": 7,
   "outputs": [
    {
     "data": {
      "text/plain": "0.8471969167426787"
     },
     "execution_count": 7,
     "metadata": {},
     "output_type": "execute_result"
    }
   ]
  }
 ]
}