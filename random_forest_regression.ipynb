{
 "nbformat": 4,
 "nbformat_minor": 0,
 "metadata": {
  "colab": {
   "name": "random_forest_regression.ipynb",
   "provenance": [],
   "collapsed_sections": [],
   "toc_visible": true
  },
  "kernelspec": {
   "name": "python3",
   "display_name": "Python 3"
  }
 },
 "cells": [
  {
   "cell_type": "markdown",
   "metadata": {
    "id": "LeamvpPVXuS_",
    "colab_type": "text",
    "pycharm": {
     "name": "#%% md\n"
    }
   },
   "source": [
    "# Random Forest Regression"
   ]
  },
  {
   "cell_type": "markdown",
   "metadata": {
    "id": "O2wvZ7SKXzVC",
    "colab_type": "text",
    "pycharm": {
     "name": "#%% md\n"
    }
   },
   "source": [
    "## Importing the libraries"
   ]
  },
  {
   "cell_type": "code",
   "metadata": {
    "id": "PVmESEFZX4Ig",
    "colab_type": "code",
    "colab": {},
    "pycharm": {
     "name": "#%%\n"
    }
   },
   "source": [
    "import numpy as np\n",
    "import matplotlib.pyplot as plt\n",
    "import pandas as pd"
   ],
   "execution_count": 1,
   "outputs": []
  },
  {
   "cell_type": "markdown",
   "metadata": {
    "id": "zgbK_F8-X7em",
    "colab_type": "text",
    "pycharm": {
     "name": "#%% md\n"
    }
   },
   "source": [
    "## Importing the dataset"
   ]
  },
  {
   "cell_type": "code",
   "metadata": {
    "id": "adBE4tjQX_Bh",
    "colab_type": "code",
    "colab": {},
    "pycharm": {
     "name": "#%%\n"
    }
   },
   "source": [
    "dataset = pd.read_csv('insurance.csv')\n",
    "X = dataset.iloc[:, :-1].values\n",
    "y = dataset.iloc[:, -1].values"
   ],
   "execution_count": 2,
   "outputs": []
  },
  {
   "cell_type": "markdown",
   "source": [
    "## Encoding categorical data"
   ],
   "metadata": {
    "collapsed": false,
    "pycharm": {
     "name": "#%% md\n"
    }
   }
  },
  {
   "cell_type": "code",
   "execution_count": 3,
   "outputs": [
    {
     "name": "stdout",
     "output_type": "stream",
     "text": [
      "[[0.0 0.0 0.0 ... 27.9 0 1]\n",
      " [0.0 0.0 1.0 ... 33.77 1 0]\n",
      " [0.0 0.0 1.0 ... 33.0 3 0]\n",
      " ...\n",
      " [0.0 0.0 1.0 ... 36.85 0 0]\n",
      " [0.0 0.0 0.0 ... 25.8 0 0]\n",
      " [0.0 1.0 0.0 ... 29.07 0 1]]\n"
     ]
    }
   ],
   "source": [
    "from sklearn.compose import ColumnTransformer\n",
    "from sklearn.preprocessing import LabelEncoder\n",
    "from sklearn.preprocessing import OneHotEncoder\n",
    "le = LabelEncoder()\n",
    "X[:, 1] = le.fit_transform(X[:, 1])\n",
    "X[:, 4] = le.fit_transform(X[:, 4])\n",
    "ct = ColumnTransformer(transformers=[('encoder', OneHotEncoder(), [5])], remainder='passthrough')\n",
    "X = np.array(ct.fit_transform(X))\n",
    "print(X)"
   ],
   "metadata": {
    "collapsed": false,
    "pycharm": {
     "name": "#%%\n"
    }
   }
  },
  {
   "cell_type": "markdown",
   "metadata": {
    "id": "ptNjcy7bOBlD",
    "colab_type": "text",
    "pycharm": {
     "name": "#%% md\n"
    }
   },
   "source": [
    "## Splitting the dataset into the Training set and Test set"
   ]
  },
  {
   "cell_type": "code",
   "metadata": {
    "id": "C7NdofoCOFQF",
    "colab_type": "code",
    "colab": {},
    "pycharm": {
     "name": "#%%\n"
    }
   },
   "source": [
    "from sklearn.model_selection import train_test_split\n",
    "X_train, X_test, y_train, y_test = train_test_split(X, y, test_size = 0.2, random_state = 0)"
   ],
   "execution_count": 4,
   "outputs": []
  },
  {
   "cell_type": "markdown",
   "metadata": {
    "id": "v4S2fyIBYDcu",
    "colab_type": "text",
    "pycharm": {
     "name": "#%% md\n"
    }
   },
   "source": [
    "## Training the Random Forest Regression model on the whole dataset"
   ]
  },
  {
   "cell_type": "code",
   "metadata": {
    "id": "o8dOCoJ1YKMc",
    "colab_type": "code",
    "colab": {},
    "pycharm": {
     "name": "#%%\n"
    }
   },
   "source": [
    "from sklearn.ensemble import RandomForestRegressor\n",
    "regressor = RandomForestRegressor(n_estimators = 10, random_state = 0)\n",
    "regressor.fit(X_train, y_train)"
   ],
   "execution_count": 5,
   "outputs": [
    {
     "data": {
      "text/plain": "RandomForestRegressor(n_estimators=10, random_state=0)",
      "text/html": "<style>#sk-container-id-1 {color: black;background-color: white;}#sk-container-id-1 pre{padding: 0;}#sk-container-id-1 div.sk-toggleable {background-color: white;}#sk-container-id-1 label.sk-toggleable__label {cursor: pointer;display: block;width: 100%;margin-bottom: 0;padding: 0.3em;box-sizing: border-box;text-align: center;}#sk-container-id-1 label.sk-toggleable__label-arrow:before {content: \"▸\";float: left;margin-right: 0.25em;color: #696969;}#sk-container-id-1 label.sk-toggleable__label-arrow:hover:before {color: black;}#sk-container-id-1 div.sk-estimator:hover label.sk-toggleable__label-arrow:before {color: black;}#sk-container-id-1 div.sk-toggleable__content {max-height: 0;max-width: 0;overflow: hidden;text-align: left;background-color: #f0f8ff;}#sk-container-id-1 div.sk-toggleable__content pre {margin: 0.2em;color: black;border-radius: 0.25em;background-color: #f0f8ff;}#sk-container-id-1 input.sk-toggleable__control:checked~div.sk-toggleable__content {max-height: 200px;max-width: 100%;overflow: auto;}#sk-container-id-1 input.sk-toggleable__control:checked~label.sk-toggleable__label-arrow:before {content: \"▾\";}#sk-container-id-1 div.sk-estimator input.sk-toggleable__control:checked~label.sk-toggleable__label {background-color: #d4ebff;}#sk-container-id-1 div.sk-label input.sk-toggleable__control:checked~label.sk-toggleable__label {background-color: #d4ebff;}#sk-container-id-1 input.sk-hidden--visually {border: 0;clip: rect(1px 1px 1px 1px);clip: rect(1px, 1px, 1px, 1px);height: 1px;margin: -1px;overflow: hidden;padding: 0;position: absolute;width: 1px;}#sk-container-id-1 div.sk-estimator {font-family: monospace;background-color: #f0f8ff;border: 1px dotted black;border-radius: 0.25em;box-sizing: border-box;margin-bottom: 0.5em;}#sk-container-id-1 div.sk-estimator:hover {background-color: #d4ebff;}#sk-container-id-1 div.sk-parallel-item::after {content: \"\";width: 100%;border-bottom: 1px solid gray;flex-grow: 1;}#sk-container-id-1 div.sk-label:hover label.sk-toggleable__label {background-color: #d4ebff;}#sk-container-id-1 div.sk-serial::before {content: \"\";position: absolute;border-left: 1px solid gray;box-sizing: border-box;top: 0;bottom: 0;left: 50%;z-index: 0;}#sk-container-id-1 div.sk-serial {display: flex;flex-direction: column;align-items: center;background-color: white;padding-right: 0.2em;padding-left: 0.2em;position: relative;}#sk-container-id-1 div.sk-item {position: relative;z-index: 1;}#sk-container-id-1 div.sk-parallel {display: flex;align-items: stretch;justify-content: center;background-color: white;position: relative;}#sk-container-id-1 div.sk-item::before, #sk-container-id-1 div.sk-parallel-item::before {content: \"\";position: absolute;border-left: 1px solid gray;box-sizing: border-box;top: 0;bottom: 0;left: 50%;z-index: -1;}#sk-container-id-1 div.sk-parallel-item {display: flex;flex-direction: column;z-index: 1;position: relative;background-color: white;}#sk-container-id-1 div.sk-parallel-item:first-child::after {align-self: flex-end;width: 50%;}#sk-container-id-1 div.sk-parallel-item:last-child::after {align-self: flex-start;width: 50%;}#sk-container-id-1 div.sk-parallel-item:only-child::after {width: 0;}#sk-container-id-1 div.sk-dashed-wrapped {border: 1px dashed gray;margin: 0 0.4em 0.5em 0.4em;box-sizing: border-box;padding-bottom: 0.4em;background-color: white;}#sk-container-id-1 div.sk-label label {font-family: monospace;font-weight: bold;display: inline-block;line-height: 1.2em;}#sk-container-id-1 div.sk-label-container {text-align: center;}#sk-container-id-1 div.sk-container {/* jupyter's `normalize.less` sets `[hidden] { display: none; }` but bootstrap.min.css set `[hidden] { display: none !important; }` so we also need the `!important` here to be able to override the default hidden behavior on the sphinx rendered scikit-learn.org. See: https://github.com/scikit-learn/scikit-learn/issues/21755 */display: inline-block !important;position: relative;}#sk-container-id-1 div.sk-text-repr-fallback {display: none;}</style><div id=\"sk-container-id-1\" class=\"sk-top-container\"><div class=\"sk-text-repr-fallback\"><pre>RandomForestRegressor(n_estimators=10, random_state=0)</pre><b>In a Jupyter environment, please rerun this cell to show the HTML representation or trust the notebook. <br />On GitHub, the HTML representation is unable to render, please try loading this page with nbviewer.org.</b></div><div class=\"sk-container\" hidden><div class=\"sk-item\"><div class=\"sk-estimator sk-toggleable\"><input class=\"sk-toggleable__control sk-hidden--visually\" id=\"sk-estimator-id-1\" type=\"checkbox\" checked><label for=\"sk-estimator-id-1\" class=\"sk-toggleable__label sk-toggleable__label-arrow\">RandomForestRegressor</label><div class=\"sk-toggleable__content\"><pre>RandomForestRegressor(n_estimators=10, random_state=0)</pre></div></div></div></div></div>"
     },
     "execution_count": 5,
     "metadata": {},
     "output_type": "execute_result"
    }
   ]
  },
  {
   "cell_type": "markdown",
   "metadata": {
    "id": "DM_jh0frOPKE",
    "colab_type": "text",
    "pycharm": {
     "name": "#%% md\n"
    }
   },
   "source": [
    "## Predicting the Test set results"
   ]
  },
  {
   "cell_type": "code",
   "metadata": {
    "id": "JGa9ZfM4OTNw",
    "colab_type": "code",
    "colab": {},
    "pycharm": {
     "name": "#%%\n"
    }
   },
   "source": [
    "y_pred = regressor.predict(X_test)\n",
    "np.set_printoptions(precision=2)\n",
    "print(np.concatenate((y_pred.reshape(len(y_pred),1), y_test.reshape(len(y_test),1)),1))"
   ],
   "execution_count": 6,
   "outputs": [
    {
     "name": "stdout",
     "output_type": "stream",
     "text": [
      "[[11812.3   9724.53]\n",
      " [ 8487.68  8547.69]\n",
      " [44973.46 45702.02]\n",
      " [13294.77 12950.07]\n",
      " [ 9306.01  9644.25]\n",
      " [ 9930.7   4500.34]\n",
      " [ 2031.53  2198.19]\n",
      " [10563.36 11436.74]\n",
      " [ 7210.22  7537.16]\n",
      " [ 8008.23  5425.02]\n",
      " [ 6598.43  6753.04]\n",
      " [15902.45 10493.95]\n",
      " [ 9720.64  7337.75]\n",
      " [ 6948.49  4185.1 ]\n",
      " [23600.31 18310.74]\n",
      " [13997.1  10702.64]\n",
      " [13509.14 12523.6 ]\n",
      " [ 8706.11  3490.55]\n",
      " [ 6593.29  6457.84]\n",
      " [34043.87 33475.82]\n",
      " [23612.29 23967.38]\n",
      " [12546.88 12643.38]\n",
      " [13588.75 23045.57]\n",
      " [27910.82 23065.42]\n",
      " [ 1558.35  1674.63]\n",
      " [11156.06  4667.61]\n",
      " [10384.21  3732.63]\n",
      " [ 7137.49  7682.67]\n",
      " [ 3779.35  3756.62]\n",
      " [10536.38  8413.46]\n",
      " [ 7442.53  8059.68]\n",
      " [48502.61 48970.25]\n",
      " [14026.01 12979.36]\n",
      " [10427.79 20630.28]\n",
      " [15464.59 14571.89]\n",
      " [ 3881.92  4137.52]\n",
      " [ 8362.    8347.16]\n",
      " [37406.27 51194.56]\n",
      " [40938.03 40003.33]\n",
      " [ 2814.59  1880.49]\n",
      " [ 9419.51  5458.05]\n",
      " [ 2941.16  2867.12]\n",
      " [20534.03 20149.32]\n",
      " [47337.51 47496.49]\n",
      " [37046.89 36149.48]\n",
      " [ 7664.52 26018.95]\n",
      " [13997.1  19749.38]\n",
      " [ 6738.33  6940.91]\n",
      " [ 6328.06  4718.2 ]\n",
      " [13471.16 22192.44]\n",
      " [ 2673.56  2899.49]\n",
      " [15327.27 18838.7 ]\n",
      " [26784.15 23568.27]\n",
      " [46154.52 46255.11]\n",
      " [11732.33 24227.34]\n",
      " [ 5949.2   3268.85]\n",
      " [ 6838.49  2322.62]\n",
      " [13581.48  8827.21]\n",
      " [ 8791.7  14478.33]\n",
      " [21327.79 13112.6 ]\n",
      " [ 1302.39  1253.94]\n",
      " [47106.51 46718.16]\n",
      " [18433.76 13919.82]\n",
      " [ 9948.2   9630.4 ]\n",
      " [14799.18 10736.87]\n",
      " [ 9694.28  9880.07]\n",
      " [34000.67 32548.34]\n",
      " [45486.33 38746.36]\n",
      " [ 9232.68  3180.51]\n",
      " [ 9268.48  8162.72]\n",
      " [14867.59 13041.92]\n",
      " [11378.67 11554.22]\n",
      " [17711.71 16232.85]\n",
      " [13641.28 13887.97]\n",
      " [12900.03 13012.21]\n",
      " [16464.89 13217.09]\n",
      " [ 9273.84  7147.1 ]\n",
      " [13763.47  7731.43]\n",
      " [19691.51 20296.86]\n",
      " [47457.21 47403.88]\n",
      " [11560.03 11658.38]\n",
      " [45497.53 45863.21]\n",
      " [ 1922.51  2055.32]\n",
      " [ 9519.52  7441.05]\n",
      " [39868.3  41034.22]\n",
      " [19411.7  18972.49]\n",
      " [ 3247.78  3410.32]\n",
      " [ 4107.23  2699.57]\n",
      " [25229.93 12333.83]\n",
      " [37709.47 36837.47]\n",
      " [16465.82  6334.34]\n",
      " [14421.2  10214.64]\n",
      " [ 2809.13 17878.9 ]\n",
      " [16218.07  8515.76]\n",
      " [10251.28  4518.83]\n",
      " [10226.55  5148.55]\n",
      " [42928.19 42303.69]\n",
      " [47837.56 38998.55]\n",
      " [ 7387.55  5327.4 ]\n",
      " [10793.41 10602.39]\n",
      " [ 3369.29  1824.29]\n",
      " [ 6146.38  5377.46]\n",
      " [ 7600.33  4349.46]\n",
      " [38616.38 37742.58]\n",
      " [27246.95 32787.46]\n",
      " [ 3556.73  3353.47]\n",
      " [11056.66 10577.09]\n",
      " [ 6471.18  3556.92]\n",
      " [11420.69 11944.59]\n",
      " [46456.23 52590.83]\n",
      " [13734.5  12475.35]\n",
      " [ 7597.72  4266.17]\n",
      " [ 9197.84  9249.5 ]\n",
      " [34333.26 33732.69]\n",
      " [47849.69 48675.52]\n",
      " [ 7632.5   7729.65]\n",
      " [ 2895.01  1964.78]\n",
      " [15560.24  8444.47]\n",
      " [23477.33 12347.17]\n",
      " [13006.79  9301.89]\n",
      " [42428.59 42124.52]\n",
      " [15410.99  9991.04]\n",
      " [14018.31 14319.03]\n",
      " [11789.26  5428.73]\n",
      " [11489.41  7626.99]\n",
      " [ 4840.8   4906.41]\n",
      " [27485.67 23401.31]\n",
      " [25703.23 21098.55]\n",
      " [48566.12 48173.36]\n",
      " [ 1764.51  1917.32]\n",
      " [12860.82  8219.2 ]\n",
      " [ 1731.89  1725.55]\n",
      " [ 6021.96  5976.83]\n",
      " [11108.48  9361.33]\n",
      " [38099.84 22144.03]\n",
      " [38101.63 35491.64]\n",
      " [25677.76 19515.54]\n",
      " [12088.71 10107.22]\n",
      " [23415.15 23244.79]\n",
      " [ 2524.56  2789.06]\n",
      " [ 2151.48  2261.57]\n",
      " [13582.16 10594.5 ]\n",
      " [ 9083.09  9304.7 ]\n",
      " [10603.49 10435.07]\n",
      " [ 5187.44  4894.75]\n",
      " [13904.2  14313.85]\n",
      " [16577.39 28287.9 ]\n",
      " [ 3806.88 14426.07]\n",
      " [ 1628.58  1627.28]\n",
      " [10902.19 25517.11]\n",
      " [ 6916.11  6555.07]\n",
      " [38515.13 39611.76]\n",
      " [11302.11  9964.06]\n",
      " [ 7145.09  1720.35]\n",
      " [ 2492.42  2730.11]\n",
      " [ 8079.75  6500.24]\n",
      " [ 2624.79  2643.27]\n",
      " [ 3231.48  1719.44]\n",
      " [14366.48 11085.59]\n",
      " [ 9593.9  10115.01]\n",
      " [ 9587.6   4846.92]\n",
      " [13172.47 12982.87]\n",
      " [13023.05 28923.14]\n",
      " [ 8969.53  9391.35]\n",
      " [ 4936.84  4544.23]\n",
      " [ 9681.58 17128.43]\n",
      " [16196.5  13844.51]\n",
      " [12472.74  6113.23]\n",
      " [ 4374.42  4441.21]\n",
      " [ 1692.28  1633.96]\n",
      " [10161.65  4058.71]\n",
      " [ 4565.01  4435.09]\n",
      " [11310.48  8310.84]\n",
      " [ 2134.6   1986.93]\n",
      " [ 8547.45  4260.74]\n",
      " [ 5074.01  4504.66]\n",
      " [ 6548.42  4428.89]\n",
      " [ 6314.74  6117.49]\n",
      " [28295.31 30184.94]\n",
      " [ 1805.22  1708.93]\n",
      " [14391.92 11187.66]\n",
      " [ 6696.3   6796.86]\n",
      " [11551.75 11356.66]\n",
      " [ 7439.55  2498.41]\n",
      " [ 6218.02 27375.9 ]\n",
      " [28404.62 28101.33]\n",
      " [ 1991.84  2254.8 ]\n",
      " [ 2106.3   2597.78]\n",
      " [14000.22 14692.67]\n",
      " [14814.63 10370.91]\n",
      " [41254.83 41097.16]\n",
      " [ 4159.64  3981.98]\n",
      " [ 5108.11  5472.45]\n",
      " [25659.46 21223.68]\n",
      " [ 2520.24  2534.39]\n",
      " [ 2484.27  1972.95]\n",
      " [ 8081.5   6406.41]\n",
      " [16035.25  6551.75]\n",
      " [ 4459.4   4058.12]\n",
      " [ 5144.16  4243.59]\n",
      " [13264.46 11512.41]\n",
      " [46206.91 46889.26]\n",
      " [14440.02 12268.63]\n",
      " [18851.69 19199.94]\n",
      " [ 7310.08  4433.39]\n",
      " [43320.5  42969.85]\n",
      " [ 9520.72 23241.47]\n",
      " [14671.72  9140.95]\n",
      " [ 5946.24  5836.52]\n",
      " [ 1145.73  1149.4 ]\n",
      " [ 8866.34  8765.25]\n",
      " [13636.97 14043.48]\n",
      " [ 4871.95  5312.17]\n",
      " [ 7023.   10795.94]\n",
      " [ 6690.25  6282.23]\n",
      " [ 6882.86  1969.61]\n",
      " [ 6779.03  6746.74]\n",
      " [ 6584.56  5354.07]\n",
      " [15965.5  14001.29]\n",
      " [ 8299.64  6877.98]\n",
      " [ 7898.41  6196.45]\n",
      " [ 7911.13  7986.48]\n",
      " [13017.86  8277.52]\n",
      " [ 7514.55  3206.49]\n",
      " [13677.88 11848.14]\n",
      " [13920.62 14210.54]\n",
      " [17155.61 12265.51]\n",
      " [11739.25 11837.16]\n",
      " [ 7434.4   6652.53]\n",
      " [ 2537.72  2137.65]\n",
      " [ 6770.48  1131.51]\n",
      " [10123.79  8342.91]\n",
      " [13108.65 12244.53]\n",
      " [ 7686.28  4561.19]\n",
      " [ 4424.88 17626.24]\n",
      " [ 7098.99  6875.96]\n",
      " [17700.72  9447.38]\n",
      " [34214.26 34254.05]\n",
      " [ 6130.39  6067.13]\n",
      " [14367.3  11729.68]\n",
      " [ 5885.86  5383.54]\n",
      " [36829.38 37465.34]\n",
      " [ 7121.76  7371.77]\n",
      " [ 7578.89  7325.05]\n",
      " [11607.32  8410.05]\n",
      " [11984.95 10461.98]\n",
      " [ 3667.59  3279.87]\n",
      " [ 7785.66  7727.25]\n",
      " [ 4759.31  2731.91]\n",
      " [ 9233.41  6858.48]\n",
      " [19102.57 19521.97]\n",
      " [46845.98 47305.31]\n",
      " [ 3966.42  3987.93]\n",
      " [ 6128.    3238.44]\n",
      " [ 4950.41  7323.73]\n",
      " [ 1685.95  1704.57]\n",
      " [ 7887.49  7445.92]\n",
      " [ 3146.6   1629.83]\n",
      " [ 5857.25  4877.98]\n",
      " [ 6970.35  3561.89]\n",
      " [ 8631.14  8605.36]\n",
      " [24342.37 24520.26]\n",
      " [46419.71 45710.21]\n",
      " [14942.04 15019.76]\n",
      " [ 6755.88  6664.69]\n",
      " [11399.09 20709.02]\n",
      " [45799.63 40932.43]\n",
      " [ 9141.93  9500.57]]\n"
     ]
    }
   ]
  },
  {
   "cell_type": "markdown",
   "metadata": {
    "id": "Cd8VZM5POWXN",
    "colab_type": "text",
    "pycharm": {
     "name": "#%% md\n"
    }
   },
   "source": [
    "## Evaluating the Model Performance"
   ]
  },
  {
   "cell_type": "code",
   "metadata": {
    "id": "a7y1rXlfOZJo",
    "colab_type": "code",
    "colab": {},
    "pycharm": {
     "name": "#%%\n"
    }
   },
   "source": [
    "from sklearn.metrics import r2_score\n",
    "r2_score(y_test, y_pred)"
   ],
   "execution_count": 7,
   "outputs": [
    {
     "data": {
      "text/plain": "0.8710634276101877"
     },
     "execution_count": 7,
     "metadata": {},
     "output_type": "execute_result"
    }
   ]
  }
 ]
}