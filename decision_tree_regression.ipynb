{
 "nbformat": 4,
 "nbformat_minor": 0,
 "metadata": {
  "colab": {
   "name": "decision_tree_regression.ipynb",
   "provenance": [],
   "collapsed_sections": [],
   "toc_visible": true
  },
  "kernelspec": {
   "name": "python3",
   "display_name": "Python 3"
  }
 },
 "cells": [
  {
   "cell_type": "markdown",
   "metadata": {
    "id": "r3cas2_1T98w",
    "colab_type": "text",
    "pycharm": {
     "name": "#%% md\n"
    }
   },
   "source": [
    "# Decision Tree Regression"
   ]
  },
  {
   "cell_type": "markdown",
   "metadata": {
    "id": "IODliia6U1xO",
    "colab_type": "text",
    "pycharm": {
     "name": "#%% md\n"
    }
   },
   "source": [
    "## Importing the libraries"
   ]
  },
  {
   "cell_type": "code",
   "metadata": {
    "id": "y98nA5UdU6Hf",
    "colab_type": "code",
    "colab": {},
    "pycharm": {
     "name": "#%%\n"
    }
   },
   "source": [
    "import numpy as np\n",
    "import matplotlib.pyplot as plt\n",
    "import pandas as pd"
   ],
   "execution_count": 1,
   "outputs": []
  },
  {
   "cell_type": "markdown",
   "metadata": {
    "id": "jpjZ43YlU8eI",
    "colab_type": "text",
    "pycharm": {
     "name": "#%% md\n"
    }
   },
   "source": [
    "## Importing the dataset"
   ]
  },
  {
   "cell_type": "code",
   "metadata": {
    "id": "pLVaXoYVU_Uy",
    "colab_type": "code",
    "colab": {},
    "pycharm": {
     "name": "#%%\n"
    }
   },
   "source": [
    "dataset = pd.read_csv('insurance.csv')\n",
    "X = dataset.iloc[:, :-1].values\n",
    "y = dataset.iloc[:, -1].values"
   ],
   "execution_count": 2,
   "outputs": []
  },
  {
   "cell_type": "markdown",
   "source": [
    "## Encoding categorical data"
   ],
   "metadata": {
    "collapsed": false,
    "pycharm": {
     "name": "#%% md\n"
    }
   }
  },
  {
   "cell_type": "code",
   "execution_count": 3,
   "outputs": [
    {
     "name": "stdout",
     "output_type": "stream",
     "text": [
      "[[0.0 0.0 0.0 ... 27.9 0 1]\n",
      " [0.0 0.0 1.0 ... 33.77 1 0]\n",
      " [0.0 0.0 1.0 ... 33.0 3 0]\n",
      " ...\n",
      " [0.0 0.0 1.0 ... 36.85 0 0]\n",
      " [0.0 0.0 0.0 ... 25.8 0 0]\n",
      " [0.0 1.0 0.0 ... 29.07 0 1]]\n"
     ]
    }
   ],
   "source": [
    "from sklearn.compose import ColumnTransformer\n",
    "from sklearn.preprocessing import LabelEncoder\n",
    "from sklearn.preprocessing import OneHotEncoder\n",
    "le = LabelEncoder()\n",
    "X[:, 1] = le.fit_transform(X[:, 1])\n",
    "X[:, 4] = le.fit_transform(X[:, 4])\n",
    "ct = ColumnTransformer(transformers=[('encoder', OneHotEncoder(), [5])], remainder='passthrough')\n",
    "X = np.array(ct.fit_transform(X))\n",
    "print(X)"
   ],
   "metadata": {
    "collapsed": false,
    "pycharm": {
     "name": "#%%\n"
    }
   }
  },
  {
   "cell_type": "markdown",
   "metadata": {
    "id": "tPJXMyyUJbWn",
    "colab_type": "text",
    "pycharm": {
     "name": "#%% md\n"
    }
   },
   "source": [
    "## Splitting the dataset into the Training set and Test set"
   ]
  },
  {
   "cell_type": "code",
   "metadata": {
    "id": "rFOzpjaiJd5B",
    "colab_type": "code",
    "colab": {},
    "pycharm": {
     "name": "#%%\n"
    }
   },
   "source": [
    "from sklearn.model_selection import train_test_split\n",
    "X_train, X_test, y_train, y_test = train_test_split(X, y, test_size = 0.2, random_state = 0)"
   ],
   "execution_count": 4,
   "outputs": []
  },
  {
   "cell_type": "markdown",
   "metadata": {
    "id": "g16qFkFQVC35",
    "colab_type": "text",
    "pycharm": {
     "name": "#%% md\n"
    }
   },
   "source": [
    "## Training the Decision Tree Regression model on the Training set"
   ]
  },
  {
   "cell_type": "code",
   "metadata": {
    "id": "SLDKyv1SVUqS",
    "colab_type": "code",
    "colab": {},
    "pycharm": {
     "name": "#%%\n"
    }
   },
   "source": [
    "from sklearn.tree import DecisionTreeRegressor\n",
    "regressor = DecisionTreeRegressor(random_state = 0)\n",
    "regressor.fit(X_train, y_train)"
   ],
   "execution_count": 5,
   "outputs": [
    {
     "data": {
      "text/plain": "DecisionTreeRegressor(random_state=0)",
      "text/html": "<style>#sk-container-id-1 {color: black;background-color: white;}#sk-container-id-1 pre{padding: 0;}#sk-container-id-1 div.sk-toggleable {background-color: white;}#sk-container-id-1 label.sk-toggleable__label {cursor: pointer;display: block;width: 100%;margin-bottom: 0;padding: 0.3em;box-sizing: border-box;text-align: center;}#sk-container-id-1 label.sk-toggleable__label-arrow:before {content: \"▸\";float: left;margin-right: 0.25em;color: #696969;}#sk-container-id-1 label.sk-toggleable__label-arrow:hover:before {color: black;}#sk-container-id-1 div.sk-estimator:hover label.sk-toggleable__label-arrow:before {color: black;}#sk-container-id-1 div.sk-toggleable__content {max-height: 0;max-width: 0;overflow: hidden;text-align: left;background-color: #f0f8ff;}#sk-container-id-1 div.sk-toggleable__content pre {margin: 0.2em;color: black;border-radius: 0.25em;background-color: #f0f8ff;}#sk-container-id-1 input.sk-toggleable__control:checked~div.sk-toggleable__content {max-height: 200px;max-width: 100%;overflow: auto;}#sk-container-id-1 input.sk-toggleable__control:checked~label.sk-toggleable__label-arrow:before {content: \"▾\";}#sk-container-id-1 div.sk-estimator input.sk-toggleable__control:checked~label.sk-toggleable__label {background-color: #d4ebff;}#sk-container-id-1 div.sk-label input.sk-toggleable__control:checked~label.sk-toggleable__label {background-color: #d4ebff;}#sk-container-id-1 input.sk-hidden--visually {border: 0;clip: rect(1px 1px 1px 1px);clip: rect(1px, 1px, 1px, 1px);height: 1px;margin: -1px;overflow: hidden;padding: 0;position: absolute;width: 1px;}#sk-container-id-1 div.sk-estimator {font-family: monospace;background-color: #f0f8ff;border: 1px dotted black;border-radius: 0.25em;box-sizing: border-box;margin-bottom: 0.5em;}#sk-container-id-1 div.sk-estimator:hover {background-color: #d4ebff;}#sk-container-id-1 div.sk-parallel-item::after {content: \"\";width: 100%;border-bottom: 1px solid gray;flex-grow: 1;}#sk-container-id-1 div.sk-label:hover label.sk-toggleable__label {background-color: #d4ebff;}#sk-container-id-1 div.sk-serial::before {content: \"\";position: absolute;border-left: 1px solid gray;box-sizing: border-box;top: 0;bottom: 0;left: 50%;z-index: 0;}#sk-container-id-1 div.sk-serial {display: flex;flex-direction: column;align-items: center;background-color: white;padding-right: 0.2em;padding-left: 0.2em;position: relative;}#sk-container-id-1 div.sk-item {position: relative;z-index: 1;}#sk-container-id-1 div.sk-parallel {display: flex;align-items: stretch;justify-content: center;background-color: white;position: relative;}#sk-container-id-1 div.sk-item::before, #sk-container-id-1 div.sk-parallel-item::before {content: \"\";position: absolute;border-left: 1px solid gray;box-sizing: border-box;top: 0;bottom: 0;left: 50%;z-index: -1;}#sk-container-id-1 div.sk-parallel-item {display: flex;flex-direction: column;z-index: 1;position: relative;background-color: white;}#sk-container-id-1 div.sk-parallel-item:first-child::after {align-self: flex-end;width: 50%;}#sk-container-id-1 div.sk-parallel-item:last-child::after {align-self: flex-start;width: 50%;}#sk-container-id-1 div.sk-parallel-item:only-child::after {width: 0;}#sk-container-id-1 div.sk-dashed-wrapped {border: 1px dashed gray;margin: 0 0.4em 0.5em 0.4em;box-sizing: border-box;padding-bottom: 0.4em;background-color: white;}#sk-container-id-1 div.sk-label label {font-family: monospace;font-weight: bold;display: inline-block;line-height: 1.2em;}#sk-container-id-1 div.sk-label-container {text-align: center;}#sk-container-id-1 div.sk-container {/* jupyter's `normalize.less` sets `[hidden] { display: none; }` but bootstrap.min.css set `[hidden] { display: none !important; }` so we also need the `!important` here to be able to override the default hidden behavior on the sphinx rendered scikit-learn.org. See: https://github.com/scikit-learn/scikit-learn/issues/21755 */display: inline-block !important;position: relative;}#sk-container-id-1 div.sk-text-repr-fallback {display: none;}</style><div id=\"sk-container-id-1\" class=\"sk-top-container\"><div class=\"sk-text-repr-fallback\"><pre>DecisionTreeRegressor(random_state=0)</pre><b>In a Jupyter environment, please rerun this cell to show the HTML representation or trust the notebook. <br />On GitHub, the HTML representation is unable to render, please try loading this page with nbviewer.org.</b></div><div class=\"sk-container\" hidden><div class=\"sk-item\"><div class=\"sk-estimator sk-toggleable\"><input class=\"sk-toggleable__control sk-hidden--visually\" id=\"sk-estimator-id-1\" type=\"checkbox\" checked><label for=\"sk-estimator-id-1\" class=\"sk-toggleable__label sk-toggleable__label-arrow\">DecisionTreeRegressor</label><div class=\"sk-toggleable__content\"><pre>DecisionTreeRegressor(random_state=0)</pre></div></div></div></div></div>"
     },
     "execution_count": 5,
     "metadata": {},
     "output_type": "execute_result"
    }
   ]
  },
  {
   "cell_type": "markdown",
   "metadata": {
    "id": "Nao9cdO6IgNb",
    "colab_type": "text",
    "pycharm": {
     "name": "#%% md\n"
    }
   },
   "source": [
    "## Predicting the Test set results"
   ]
  },
  {
   "cell_type": "code",
   "metadata": {
    "id": "EebHA3EOIkQK",
    "colab_type": "code",
    "colab": {},
    "pycharm": {
     "name": "#%%\n"
    }
   },
   "source": [
    "y_pred = regressor.predict(X_test)\n",
    "np.set_printoptions(precision=2)\n",
    "print(np.concatenate((y_pred.reshape(len(y_pred),1), y_test.reshape(len(y_test),1)),1))"
   ],
   "execution_count": 6,
   "outputs": [
    {
     "name": "stdout",
     "output_type": "stream",
     "text": [
      "[[10797.34  9724.53]\n",
      " [ 8871.15  8547.69]\n",
      " [42983.46 45702.02]\n",
      " [13429.04 12950.07]\n",
      " [ 9264.8   9644.25]\n",
      " [21984.47  4500.34]\n",
      " [ 2196.47  2198.19]\n",
      " [10848.13 11436.74]\n",
      " [ 7151.09  7537.16]\n",
      " [ 4433.92  5425.02]\n",
      " [ 7228.22  6753.04]\n",
      " [ 8932.08 10493.95]\n",
      " [ 8823.28  7337.75]\n",
      " [ 4415.16  4185.1 ]\n",
      " [35147.53 18310.74]\n",
      " [10560.49 10702.64]\n",
      " [12323.94 12523.6 ]\n",
      " [24671.66  3490.55]\n",
      " [ 6455.86  6457.84]\n",
      " [33750.29 33475.82]\n",
      " [24667.42 23967.38]\n",
      " [12269.69 12643.38]\n",
      " [10355.64 23045.57]\n",
      " [27533.91 23065.42]\n",
      " [ 1391.53  1674.63]\n",
      " [18903.49  4667.61]\n",
      " [ 2680.95  3732.63]\n",
      " [ 7151.09  7682.67]\n",
      " [ 3645.09  3756.62]\n",
      " [ 8116.27  8413.46]\n",
      " [ 7151.09  8059.68]\n",
      " [47896.79 48970.25]\n",
      " [13393.76 12979.36]\n",
      " [10085.85 20630.28]\n",
      " [14283.46 14571.89]\n",
      " [ 3866.86  4137.52]\n",
      " [ 8978.19  8347.16]\n",
      " [38511.63 51194.56]\n",
      " [39983.43 40003.33]\n",
      " [ 2207.7   1880.49]\n",
      " [21984.47  5458.05]\n",
      " [ 3866.86  2867.12]\n",
      " [21659.93 20149.32]\n",
      " [49577.66 47496.49]\n",
      " [36219.41 36149.48]\n",
      " [ 3579.83 26018.95]\n",
      " [10560.49 19749.38]\n",
      " [ 6389.38  6940.91]\n",
      " [ 4719.52  4718.2 ]\n",
      " [11833.78 22192.44]\n",
      " [ 3046.06  2899.49]\n",
      " [24059.68 18838.7 ]\n",
      " [27218.44 23568.27]\n",
      " [46661.44 46255.11]\n",
      " [11856.41 24227.34]\n",
      " [19673.34  3268.85]\n",
      " [ 2497.04  2322.62]\n",
      " [ 8932.08  8827.21]\n",
      " [18806.15 14478.33]\n",
      " [14119.62 13112.6 ]\n",
      " [ 1252.41  1253.94]\n",
      " [46130.53 46718.16]\n",
      " [14007.22 13919.82]\n",
      " [ 8968.33  9630.4 ]\n",
      " [26392.26 10736.87]\n",
      " [ 9872.7   9880.07]\n",
      " [33750.29 32548.34]\n",
      " [43943.88 38746.36]\n",
      " [11884.05  3180.51]\n",
      " [15828.82  8162.72]\n",
      " [13451.12 13041.92]\n",
      " [10338.93 11554.22]\n",
      " [17560.38 16232.85]\n",
      " [13887.2  13887.97]\n",
      " [12233.83 13012.21]\n",
      " [12815.44 13217.09]\n",
      " [ 7526.71  7147.1 ]\n",
      " [ 8211.1   7731.43]\n",
      " [20773.63 20296.86]\n",
      " [48824.45 47403.88]\n",
      " [11658.12 11658.38]\n",
      " [63770.43 45863.21]\n",
      " [ 2741.95  2055.32]\n",
      " [ 6849.03  7441.05]\n",
      " [42111.66 41034.22]\n",
      " [21472.48 18972.49]\n",
      " [ 2927.06  3410.32]\n",
      " [ 2897.32  2699.57]\n",
      " [13224.69 12333.83]\n",
      " [37079.37 36837.47]\n",
      " [18903.49  6334.34]\n",
      " [10796.35 10214.64]\n",
      " [ 3213.62 17878.9 ]\n",
      " [ 8516.83  8515.76]\n",
      " [12404.88  4518.83]\n",
      " [18903.49  5148.55]\n",
      " [41999.52 42303.69]\n",
      " [62592.87 38998.55]\n",
      " [ 5693.43  5327.4 ]\n",
      " [11090.72 10602.39]\n",
      " [ 1815.88  1824.29]\n",
      " [ 5373.36  5377.46]\n",
      " [ 4949.76  4349.46]\n",
      " [36950.26 37742.58]\n",
      " [37829.72 32787.46]\n",
      " [ 3176.29  3353.47]\n",
      " [11345.52 10577.09]\n",
      " [19673.34  3556.92]\n",
      " [11362.75 11944.59]\n",
      " [45008.96 52590.83]\n",
      " [12479.71 12475.35]\n",
      " [ 4463.21  4266.17]\n",
      " [ 8703.46  9249.5 ]\n",
      " [33750.29 33732.69]\n",
      " [47269.85 48675.52]\n",
      " [13725.47  7729.65]\n",
      " [ 1832.09  1964.78]\n",
      " [ 8932.08  8444.47]\n",
      " [27941.29 12347.17]\n",
      " [ 8606.22  9301.89]\n",
      " [42856.84 42124.52]\n",
      " [10197.77  9991.04]\n",
      " [13822.8  14319.03]\n",
      " [18903.49  5428.73]\n",
      " [ 7624.63  7626.99]\n",
      " [ 4719.74  4906.41]\n",
      " [38245.59 23401.31]\n",
      " [35069.37 21098.55]\n",
      " [48824.45 48173.36]\n",
      " [ 1646.43  1917.32]\n",
      " [ 8211.1   8219.2 ]\n",
      " [ 1727.54  1725.55]\n",
      " [ 5974.38  5976.83]\n",
      " [ 8688.86  9361.33]\n",
      " [62592.87 22144.03]\n",
      " [37270.15 35491.64]\n",
      " [21259.38 19515.54]\n",
      " [ 9800.89 10107.22]\n",
      " [22218.11 23244.79]\n",
      " [ 2775.19  2789.06]\n",
      " [ 2130.68  2261.57]\n",
      " [11082.58 10594.5 ]\n",
      " [ 9048.03  9304.7 ]\n",
      " [ 9850.43 10435.07]\n",
      " [ 5257.51  4894.75]\n",
      " [13831.12 14313.85]\n",
      " [27941.29 28287.9 ]\n",
      " [ 3537.7  14426.07]\n",
      " [ 1628.47  1627.28]\n",
      " [10791.96 25517.11]\n",
      " [ 7077.19  6555.07]\n",
      " [38792.69 39611.76]\n",
      " [ 9957.72  9964.06]\n",
      " [11774.16  1720.35]\n",
      " [ 2219.45  2730.11]\n",
      " [ 5974.38  6500.24]\n",
      " [ 2719.28  2643.27]\n",
      " [ 1711.03  1719.44]\n",
      " [10264.44 11085.59]\n",
      " [11552.9  10115.01]\n",
      " [18903.49  4846.92]\n",
      " [13470.8  12982.87]\n",
      " [12233.83 28923.14]\n",
      " [ 9957.72  9391.35]\n",
      " [ 4134.08  4544.23]\n",
      " [24671.66 17128.43]\n",
      " [20167.34 13844.51]\n",
      " [16796.41  6113.23]\n",
      " [ 4237.13  4441.21]\n",
      " [ 1634.57  1633.96]\n",
      " [18804.75  4058.71]\n",
      " [ 4438.26  4435.09]\n",
      " [ 8520.03  8310.84]\n",
      " [ 2473.33  1986.93]\n",
      " [ 3693.43  4260.74]\n",
      " [ 3500.61  4504.66]\n",
      " [ 4719.52  4428.89]\n",
      " [ 5855.9   6117.49]\n",
      " [24915.22 30184.94]\n",
      " [ 1708.    1708.93]\n",
      " [12495.29 11187.66]\n",
      " [ 6313.76  6796.86]\n",
      " [11743.93 11356.66]\n",
      " [ 2497.04  2498.41]\n",
      " [ 7228.22 27375.9 ]\n",
      " [27808.73 28101.33]\n",
      " [ 2741.95  2254.8 ]\n",
      " [ 2585.27  2597.78]\n",
      " [13831.12 14692.67]\n",
      " [10043.25 10370.91]\n",
      " [41919.1  41097.16]\n",
      " [ 4189.11  3981.98]\n",
      " [ 4883.87  5472.45]\n",
      " [21978.68 21223.68]\n",
      " [ 2523.17  2534.39]\n",
      " [18955.22  1972.95]\n",
      " [ 7173.36  6406.41]\n",
      " [24915.05  6551.75]\n",
      " [ 4463.21  4058.12]\n",
      " [ 4454.4   4243.59]\n",
      " [11879.1  11512.41]\n",
      " [47928.03 46889.26]\n",
      " [12269.69 12268.63]\n",
      " [21472.48 19199.94]\n",
      " [ 4433.92  4433.39]\n",
      " [41676.08 42969.85]\n",
      " [23288.93 23241.47]\n",
      " [ 9748.91  9140.95]\n",
      " [ 5245.23  5836.52]\n",
      " [ 1146.8   1149.4 ]\n",
      " [ 8835.26  8765.25]\n",
      " [13555.   14043.48]\n",
      " [ 4719.74  5312.17]\n",
      " [ 1826.84 10795.94]\n",
      " [ 5699.84  6282.23]\n",
      " [25081.77  1969.61]\n",
      " [ 6548.2   6746.74]\n",
      " [ 7228.22  5354.07]\n",
      " [14001.13 14001.29]\n",
      " [ 6640.54  6877.98]\n",
      " [ 5972.38  6196.45]\n",
      " [ 7985.81  7986.48]\n",
      " [21232.18  8277.52]\n",
      " [ 3213.62  3206.49]\n",
      " [11842.44 11848.14]\n",
      " [13831.12 14210.54]\n",
      " [12629.17 12265.51]\n",
      " [10959.33 11837.16]\n",
      " [ 6455.86  6652.53]\n",
      " [ 1981.58  2137.65]\n",
      " [11774.16  1131.51]\n",
      " [ 7448.4   8342.91]\n",
      " [21797.   12244.53]\n",
      " [ 3481.87  4561.19]\n",
      " [ 4350.51 17626.24]\n",
      " [ 7256.72  6875.96]\n",
      " [ 9447.25  9447.38]\n",
      " [33750.29 34254.05]\n",
      " [ 7077.19  6067.13]\n",
      " [12096.65 11729.68]\n",
      " [ 5910.94  5383.54]\n",
      " [36397.58 37465.34]\n",
      " [ 7650.77  7371.77]\n",
      " [ 6837.37  7325.05]\n",
      " [ 8116.27  8410.05]\n",
      " [10942.13 10461.98]\n",
      " [ 2913.57  3279.87]\n",
      " [ 7348.14  7727.25]\n",
      " [ 1515.34  2731.91]\n",
      " [13725.47  6858.48]\n",
      " [19107.78 19521.97]\n",
      " [47291.06 47305.31]\n",
      " [ 3591.48  3987.93]\n",
      " [ 2927.06  3238.44]\n",
      " [ 2200.83  7323.73]\n",
      " [ 1704.7   1704.57]\n",
      " [ 6849.03  7445.92]\n",
      " [ 2136.88  1629.83]\n",
      " [ 3906.13  4877.98]\n",
      " [ 4133.64  3561.89]\n",
      " [ 9788.87  8605.36]\n",
      " [24393.62 24520.26]\n",
      " [45008.96 45710.21]\n",
      " [16455.71 15019.76]\n",
      " [ 6393.6   6664.69]\n",
      " [10982.5  20709.02]\n",
      " [40419.02 40932.43]\n",
      " [ 8606.22  9500.57]]\n"
     ]
    }
   ]
  },
  {
   "cell_type": "markdown",
   "metadata": {
    "id": "V4nELFnnIod1",
    "colab_type": "text",
    "pycharm": {
     "name": "#%% md\n"
    }
   },
   "source": [
    "## Evaluating the Model Performance"
   ]
  },
  {
   "cell_type": "code",
   "metadata": {
    "id": "_G2QS1UoIsTZ",
    "colab_type": "code",
    "colab": {},
    "pycharm": {
     "name": "#%%\n"
    }
   },
   "source": [
    "from sklearn.metrics import r2_score\n",
    "r2_score(y_test, y_pred)"
   ],
   "execution_count": 7,
   "outputs": [
    {
     "data": {
      "text/plain": "0.7246164969024855"
     },
     "execution_count": 7,
     "metadata": {},
     "output_type": "execute_result"
    }
   ]
  }
 ]
}