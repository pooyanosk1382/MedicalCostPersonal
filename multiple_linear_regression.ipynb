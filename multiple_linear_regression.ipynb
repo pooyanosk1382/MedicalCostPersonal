{
 "nbformat": 4,
 "nbformat_minor": 0,
 "metadata": {
  "colab": {
   "name": "multiple_linear_regression.ipynb",
   "provenance": [],
   "collapsed_sections": [],
   "toc_visible": true
  },
  "kernelspec": {
   "name": "python3",
   "display_name": "Python 3"
  }
 },
 "cells": [
  {
   "cell_type": "markdown",
   "metadata": {
    "id": "CazISR8X_HUG",
    "colab_type": "text",
    "pycharm": {
     "name": "#%% md\n"
    }
   },
   "source": [
    "# Multiple Linear Regression"
   ]
  },
  {
   "cell_type": "markdown",
   "metadata": {
    "id": "pOyqYHTk_Q57",
    "colab_type": "text",
    "pycharm": {
     "name": "#%% md\n"
    }
   },
   "source": [
    "## Importing the libraries"
   ]
  },
  {
   "cell_type": "code",
   "metadata": {
    "id": "T_YHJjnD_Tja",
    "colab_type": "code",
    "colab": {},
    "pycharm": {
     "name": "#%%\n"
    }
   },
   "source": [
    "import numpy as np\n",
    "import matplotlib.pyplot as plt\n",
    "import pandas as pd"
   ],
   "execution_count": 17,
   "outputs": []
  },
  {
   "cell_type": "markdown",
   "metadata": {
    "id": "vgC61-ah_WIz",
    "colab_type": "text",
    "pycharm": {
     "name": "#%% md\n"
    }
   },
   "source": [
    "## Importing the dataset"
   ]
  },
  {
   "cell_type": "code",
   "metadata": {
    "id": "UrxyEKGn_ez7",
    "colab_type": "code",
    "colab": {},
    "pycharm": {
     "name": "#%%\n"
    }
   },
   "source": [
    "dataset = pd.read_csv('insurance.csv')\n",
    "X = dataset.iloc[:, :-1].values\n",
    "y = dataset.iloc[:, -1].values"
   ],
   "execution_count": 18,
   "outputs": []
  },
  {
   "cell_type": "markdown",
   "source": [
    "## Encoding categorical data"
   ],
   "metadata": {
    "collapsed": false,
    "pycharm": {
     "name": "#%% md\n"
    }
   }
  },
  {
   "cell_type": "code",
   "execution_count": 19,
   "outputs": [
    {
     "name": "stdout",
     "output_type": "stream",
     "text": [
      "[[0.0 0.0 0.0 ... 27.9 0 1]\n",
      " [0.0 0.0 1.0 ... 33.77 1 0]\n",
      " [0.0 0.0 1.0 ... 33.0 3 0]\n",
      " ...\n",
      " [0.0 0.0 1.0 ... 36.85 0 0]\n",
      " [0.0 0.0 0.0 ... 25.8 0 0]\n",
      " [0.0 1.0 0.0 ... 29.07 0 1]]\n"
     ]
    }
   ],
   "source": [
    "from sklearn.compose import ColumnTransformer\n",
    "from sklearn.preprocessing import LabelEncoder\n",
    "from sklearn.preprocessing import OneHotEncoder\n",
    "le = LabelEncoder()\n",
    "X[:, 1] = le.fit_transform(X[:, 1])\n",
    "X[:, 4] = le.fit_transform(X[:, 4])\n",
    "ct = ColumnTransformer(transformers=[('encoder', OneHotEncoder(), [5])], remainder='passthrough')\n",
    "X = np.array(ct.fit_transform(X))\n",
    "print(X)"
   ],
   "metadata": {
    "collapsed": false,
    "pycharm": {
     "name": "#%%\n"
    }
   }
  },
  {
   "cell_type": "markdown",
   "metadata": {
    "id": "WemVnqgeA70k",
    "colab_type": "text",
    "pycharm": {
     "name": "#%% md\n"
    }
   },
   "source": [
    "## Splitting the dataset into the Training set and Test set"
   ]
  },
  {
   "cell_type": "code",
   "metadata": {
    "id": "Kb_v_ae-A-20",
    "colab_type": "code",
    "colab": {},
    "pycharm": {
     "name": "#%%\n"
    }
   },
   "source": [
    "from sklearn.model_selection import train_test_split\n",
    "X_train, X_test, y_train, y_test = train_test_split(X, y, test_size = 0.2, random_state = 0)"
   ],
   "execution_count": 20,
   "outputs": []
  },
  {
   "cell_type": "markdown",
   "metadata": {
    "id": "k-McZVsQBINc",
    "colab_type": "text",
    "pycharm": {
     "name": "#%% md\n"
    }
   },
   "source": [
    "## Training the Multiple Linear Regression model on the Training set"
   ]
  },
  {
   "cell_type": "code",
   "metadata": {
    "id": "ywPjx0L1BMiD",
    "colab_type": "code",
    "colab": {},
    "pycharm": {
     "name": "#%%\n"
    }
   },
   "source": [
    "from sklearn.linear_model import LinearRegression\n",
    "regressor = LinearRegression()\n",
    "regressor.fit(X_train, y_train)"
   ],
   "execution_count": 21,
   "outputs": [
    {
     "data": {
      "text/plain": "LinearRegression()",
      "text/html": "<style>#sk-container-id-2 {color: black;background-color: white;}#sk-container-id-2 pre{padding: 0;}#sk-container-id-2 div.sk-toggleable {background-color: white;}#sk-container-id-2 label.sk-toggleable__label {cursor: pointer;display: block;width: 100%;margin-bottom: 0;padding: 0.3em;box-sizing: border-box;text-align: center;}#sk-container-id-2 label.sk-toggleable__label-arrow:before {content: \"▸\";float: left;margin-right: 0.25em;color: #696969;}#sk-container-id-2 label.sk-toggleable__label-arrow:hover:before {color: black;}#sk-container-id-2 div.sk-estimator:hover label.sk-toggleable__label-arrow:before {color: black;}#sk-container-id-2 div.sk-toggleable__content {max-height: 0;max-width: 0;overflow: hidden;text-align: left;background-color: #f0f8ff;}#sk-container-id-2 div.sk-toggleable__content pre {margin: 0.2em;color: black;border-radius: 0.25em;background-color: #f0f8ff;}#sk-container-id-2 input.sk-toggleable__control:checked~div.sk-toggleable__content {max-height: 200px;max-width: 100%;overflow: auto;}#sk-container-id-2 input.sk-toggleable__control:checked~label.sk-toggleable__label-arrow:before {content: \"▾\";}#sk-container-id-2 div.sk-estimator input.sk-toggleable__control:checked~label.sk-toggleable__label {background-color: #d4ebff;}#sk-container-id-2 div.sk-label input.sk-toggleable__control:checked~label.sk-toggleable__label {background-color: #d4ebff;}#sk-container-id-2 input.sk-hidden--visually {border: 0;clip: rect(1px 1px 1px 1px);clip: rect(1px, 1px, 1px, 1px);height: 1px;margin: -1px;overflow: hidden;padding: 0;position: absolute;width: 1px;}#sk-container-id-2 div.sk-estimator {font-family: monospace;background-color: #f0f8ff;border: 1px dotted black;border-radius: 0.25em;box-sizing: border-box;margin-bottom: 0.5em;}#sk-container-id-2 div.sk-estimator:hover {background-color: #d4ebff;}#sk-container-id-2 div.sk-parallel-item::after {content: \"\";width: 100%;border-bottom: 1px solid gray;flex-grow: 1;}#sk-container-id-2 div.sk-label:hover label.sk-toggleable__label {background-color: #d4ebff;}#sk-container-id-2 div.sk-serial::before {content: \"\";position: absolute;border-left: 1px solid gray;box-sizing: border-box;top: 0;bottom: 0;left: 50%;z-index: 0;}#sk-container-id-2 div.sk-serial {display: flex;flex-direction: column;align-items: center;background-color: white;padding-right: 0.2em;padding-left: 0.2em;position: relative;}#sk-container-id-2 div.sk-item {position: relative;z-index: 1;}#sk-container-id-2 div.sk-parallel {display: flex;align-items: stretch;justify-content: center;background-color: white;position: relative;}#sk-container-id-2 div.sk-item::before, #sk-container-id-2 div.sk-parallel-item::before {content: \"\";position: absolute;border-left: 1px solid gray;box-sizing: border-box;top: 0;bottom: 0;left: 50%;z-index: -1;}#sk-container-id-2 div.sk-parallel-item {display: flex;flex-direction: column;z-index: 1;position: relative;background-color: white;}#sk-container-id-2 div.sk-parallel-item:first-child::after {align-self: flex-end;width: 50%;}#sk-container-id-2 div.sk-parallel-item:last-child::after {align-self: flex-start;width: 50%;}#sk-container-id-2 div.sk-parallel-item:only-child::after {width: 0;}#sk-container-id-2 div.sk-dashed-wrapped {border: 1px dashed gray;margin: 0 0.4em 0.5em 0.4em;box-sizing: border-box;padding-bottom: 0.4em;background-color: white;}#sk-container-id-2 div.sk-label label {font-family: monospace;font-weight: bold;display: inline-block;line-height: 1.2em;}#sk-container-id-2 div.sk-label-container {text-align: center;}#sk-container-id-2 div.sk-container {/* jupyter's `normalize.less` sets `[hidden] { display: none; }` but bootstrap.min.css set `[hidden] { display: none !important; }` so we also need the `!important` here to be able to override the default hidden behavior on the sphinx rendered scikit-learn.org. See: https://github.com/scikit-learn/scikit-learn/issues/21755 */display: inline-block !important;position: relative;}#sk-container-id-2 div.sk-text-repr-fallback {display: none;}</style><div id=\"sk-container-id-2\" class=\"sk-top-container\"><div class=\"sk-text-repr-fallback\"><pre>LinearRegression()</pre><b>In a Jupyter environment, please rerun this cell to show the HTML representation or trust the notebook. <br />On GitHub, the HTML representation is unable to render, please try loading this page with nbviewer.org.</b></div><div class=\"sk-container\" hidden><div class=\"sk-item\"><div class=\"sk-estimator sk-toggleable\"><input class=\"sk-toggleable__control sk-hidden--visually\" id=\"sk-estimator-id-2\" type=\"checkbox\" checked><label for=\"sk-estimator-id-2\" class=\"sk-toggleable__label sk-toggleable__label-arrow\">LinearRegression</label><div class=\"sk-toggleable__content\"><pre>LinearRegression()</pre></div></div></div></div></div>"
     },
     "execution_count": 21,
     "metadata": {},
     "output_type": "execute_result"
    }
   ]
  },
  {
   "cell_type": "markdown",
   "metadata": {
    "id": "xNkXL1YQBiBT",
    "colab_type": "text",
    "pycharm": {
     "name": "#%% md\n"
    }
   },
   "source": [
    "## Predicting the Test set results"
   ]
  },
  {
   "cell_type": "code",
   "metadata": {
    "id": "TQKmwvtdBkyb",
    "colab_type": "code",
    "colab": {},
    "pycharm": {
     "name": "#%%\n"
    }
   },
   "source": [
    "y_pred = regressor.predict(X_test)\n",
    "np.set_printoptions(precision=2)\n",
    "print(np.concatenate((y_pred.reshape(len(y_pred),1), y_test.reshape(len(y_test),1)),1))"
   ],
   "execution_count": 22,
   "outputs": [
    {
     "name": "stdout",
     "output_type": "stream",
     "text": [
      "[[1.12e+04 9.72e+03]\n",
      " [9.49e+03 8.55e+03]\n",
      " [3.82e+04 4.57e+04]\n",
      " [1.63e+04 1.30e+04]\n",
      " [6.91e+03 9.64e+03]\n",
      " [3.96e+03 4.50e+03]\n",
      " [1.58e+03 2.20e+03]\n",
      " [1.44e+04 1.14e+04]\n",
      " [9.01e+03 7.54e+03]\n",
      " [7.51e+03 5.43e+03]\n",
      " [4.49e+03 6.75e+03]\n",
      " [1.03e+04 1.05e+04]\n",
      " [8.80e+03 7.34e+03]\n",
      " [3.80e+03 4.19e+03]\n",
      " [2.79e+04 1.83e+04]\n",
      " [1.07e+04 1.07e+04]\n",
      " [1.13e+04 1.25e+04]\n",
      " [6.11e+03 3.49e+03]\n",
      " [8.24e+03 6.46e+03]\n",
      " [2.71e+04 3.35e+04]\n",
      " [3.36e+04 2.40e+04]\n",
      " [1.44e+04 1.26e+04]\n",
      " [1.17e+04 2.30e+04]\n",
      " [3.21e+04 2.31e+04]\n",
      " [4.17e+03 1.67e+03]\n",
      " [9.25e+03 4.67e+03]\n",
      " [1.08e+03 3.73e+03]\n",
      " [9.80e+03 7.68e+03]\n",
      " [3.77e+03 3.76e+03]\n",
      " [1.04e+04 8.41e+03]\n",
      " [9.01e+03 8.06e+03]\n",
      " [4.01e+04 4.90e+04]\n",
      " [1.57e+04 1.30e+04]\n",
      " [1.39e+04 2.06e+04]\n",
      " [2.48e+04 1.46e+04]\n",
      " [5.17e+03 4.14e+03]\n",
      " [1.26e+04 8.35e+03]\n",
      " [3.08e+04 5.12e+04]\n",
      " [3.35e+04 4.00e+04]\n",
      " [3.67e+03 1.88e+03]\n",
      " [3.98e+03 5.46e+03]\n",
      " [3.99e+03 2.87e+03]\n",
      " [3.05e+04 2.01e+04]\n",
      " [3.95e+04 4.75e+04]\n",
      " [2.78e+04 3.61e+04]\n",
      " [5.09e+03 2.60e+04]\n",
      " [1.06e+04 1.97e+04]\n",
      " [7.83e+03 6.94e+03]\n",
      " [3.59e+03 4.72e+03]\n",
      " [1.02e+04 2.22e+04]\n",
      " [5.72e+03 2.90e+03]\n",
      " [3.43e+03 1.88e+04]\n",
      " [3.30e+04 2.36e+04]\n",
      " [3.85e+04 4.63e+04]\n",
      " [1.61e+04 2.42e+04]\n",
      " [7.16e+03 3.27e+03]\n",
      " [5.74e+03 2.32e+03]\n",
      " [9.45e+03 8.83e+03]\n",
      " [8.91e+03 1.45e+04]\n",
      " [1.17e+04 1.31e+04]\n",
      " [1.86e+03 1.25e+03]\n",
      " [3.89e+04 4.67e+04]\n",
      " [1.49e+04 1.39e+04]\n",
      " [1.18e+04 9.63e+03]\n",
      " [1.41e+04 1.07e+04]\n",
      " [1.41e+04 9.88e+03]\n",
      " [2.58e+04 3.25e+04]\n",
      " [3.22e+04 3.87e+04]\n",
      " [8.14e+02 3.18e+03]\n",
      " [1.02e+04 8.16e+03]\n",
      " [1.24e+04 1.30e+04]\n",
      " [1.15e+04 1.16e+04]\n",
      " [2.52e+04 1.62e+04]\n",
      " [1.56e+04 1.39e+04]\n",
      " [1.12e+04 1.30e+04]\n",
      " [1.26e+04 1.32e+04]\n",
      " [6.56e+03 7.15e+03]\n",
      " [9.59e+03 7.73e+03]\n",
      " [3.02e+04 2.03e+04]\n",
      " [3.91e+04 4.74e+04]\n",
      " [1.20e+04 1.17e+04]\n",
      " [3.73e+04 4.59e+04]\n",
      " [4.27e+03 2.06e+03]\n",
      " [9.39e+03 7.44e+03]\n",
      " [3.49e+04 4.10e+04]\n",
      " [2.88e+04 1.90e+04]\n",
      " [8.69e+03 3.41e+03]\n",
      " [4.93e+03 2.70e+03]\n",
      " [1.20e+04 1.23e+04]\n",
      " [3.05e+04 3.68e+04]\n",
      " [1.01e+04 6.33e+03]\n",
      " [1.14e+04 1.02e+04]\n",
      " [8.40e+03 1.79e+04]\n",
      " [8.90e+03 8.52e+03]\n",
      " [8.43e+03 4.52e+03]\n",
      " [7.32e+03 5.15e+03]\n",
      " [3.60e+04 4.23e+04]\n",
      " [3.32e+04 3.90e+04]\n",
      " [7.66e+03 5.33e+03]\n",
      " [1.51e+04 1.06e+04]\n",
      " [4.02e+03 1.82e+03]\n",
      " [8.83e+03 5.38e+03]\n",
      " [6.32e+03 4.35e+03]\n",
      " [3.15e+04 3.77e+04]\n",
      " [3.30e+04 3.28e+04]\n",
      " [1.97e+03 3.35e+03]\n",
      " [9.03e+03 1.06e+04]\n",
      " [6.70e+03 3.56e+03]\n",
      " [1.46e+04 1.19e+04]\n",
      " [3.72e+04 5.26e+04]\n",
      " [1.01e+04 1.25e+04]\n",
      " [1.06e+04 4.27e+03]\n",
      " [1.02e+04 9.25e+03]\n",
      " [2.70e+04 3.37e+04]\n",
      " [3.99e+04 4.87e+04]\n",
      " [8.46e+03 7.73e+03]\n",
      " [2.97e+02 1.96e+03]\n",
      " [9.02e+03 8.44e+03]\n",
      " [1.53e+04 1.23e+04]\n",
      " [9.53e+03 9.30e+03]\n",
      " [3.52e+04 4.21e+04]\n",
      " [7.26e+03 9.99e+03]\n",
      " [1.70e+04 1.43e+04]\n",
      " [9.65e+03 5.43e+03]\n",
      " [8.25e+03 7.63e+03]\n",
      " [2.94e+03 4.91e+03]\n",
      " [3.29e+04 2.34e+04]\n",
      " [3.15e+04 2.11e+04]\n",
      " [3.96e+04 4.82e+04]\n",
      " [5.61e+03 1.92e+03]\n",
      " [9.31e+03 8.22e+03]\n",
      " [3.59e+03 1.73e+03]\n",
      " [7.65e+03 5.98e+03]\n",
      " [8.63e+03 9.36e+03]\n",
      " [3.17e+04 2.21e+04]\n",
      " [3.00e+04 3.55e+04]\n",
      " [2.98e+04 1.95e+04]\n",
      " [8.73e+03 1.01e+04]\n",
      " [3.24e+04 2.32e+04]\n",
      " [3.36e+03 2.79e+03]\n",
      " [3.71e+03 2.26e+03]\n",
      " [1.11e+04 1.06e+04]\n",
      " [1.32e+04 9.30e+03]\n",
      " [1.29e+04 1.04e+04]\n",
      " [5.45e+03 4.89e+03]\n",
      " [1.56e+04 1.43e+04]\n",
      " [1.49e+04 2.83e+04]\n",
      " [2.41e+03 1.44e+04]\n",
      " [2.55e+01 1.63e+03]\n",
      " [1.08e+04 2.55e+04]\n",
      " [7.41e+03 6.56e+03]\n",
      " [3.19e+04 3.96e+04]\n",
      " [1.24e+04 9.96e+03]\n",
      " [2.34e+03 1.72e+03]\n",
      " [6.48e+03 2.73e+03]\n",
      " [7.86e+03 6.50e+03]\n",
      " [4.45e+03 2.64e+03]\n",
      " [2.11e+03 1.72e+03]\n",
      " [1.14e+04 1.11e+04]\n",
      " [1.25e+04 1.01e+04]\n",
      " [7.26e+03 4.85e+03]\n",
      " [1.64e+04 1.30e+04]\n",
      " [1.18e+04 2.89e+04]\n",
      " [1.41e+04 9.39e+03]\n",
      " [3.18e+03 4.54e+03]\n",
      " [7.29e+03 1.71e+04]\n",
      " [2.31e+04 1.38e+04]\n",
      " [7.59e+03 6.11e+03]\n",
      " [5.49e+03 4.44e+03]\n",
      " [5.20e+03 1.63e+03]\n",
      " [6.76e+03 4.06e+03]\n",
      " [5.20e+03 4.44e+03]\n",
      " [1.00e+04 8.31e+03]\n",
      " [5.38e+03 1.99e+03]\n",
      " [5.73e+03 4.26e+03]\n",
      " [6.64e+03 4.50e+03]\n",
      " [3.70e+03 4.43e+03]\n",
      " [5.57e+03 6.12e+03]\n",
      " [3.81e+04 3.02e+04]\n",
      " [1.50e+03 1.71e+03]\n",
      " [1.26e+04 1.12e+04]\n",
      " [8.97e+03 6.80e+03]\n",
      " [1.38e+04 1.14e+04]\n",
      " [5.40e+03 2.50e+03]\n",
      " [5.19e+03 2.74e+04]\n",
      " [3.65e+04 2.81e+04]\n",
      " [4.40e+03 2.25e+03]\n",
      " [2.04e+03 2.60e+03]\n",
      " [1.52e+04 1.47e+04]\n",
      " [1.27e+04 1.04e+04]\n",
      " [3.51e+04 4.11e+04]\n",
      " [4.78e+03 3.98e+03]\n",
      " [5.68e+03 5.47e+03]\n",
      " [3.12e+04 2.12e+04]\n",
      " [6.21e+03 2.53e+03]\n",
      " [2.15e+03 1.97e+03]\n",
      " [8.44e+03 6.41e+03]\n",
      " [1.00e+04 6.55e+03]\n",
      " [8.00e+03 4.06e+03]\n",
      " [5.80e+03 4.24e+03]\n",
      " [1.32e+04 1.15e+04]\n",
      " [3.85e+04 4.69e+04]\n",
      " [1.38e+04 1.23e+04]\n",
      " [2.89e+04 1.92e+04]\n",
      " [6.79e+03 4.43e+03]\n",
      " [3.55e+04 4.30e+04]\n",
      " [3.77e+03 2.32e+04]\n",
      " [1.19e+04 9.14e+03]\n",
      " [9.06e+03 5.84e+03]\n",
      " [6.26e+03 1.15e+03]\n",
      " [1.14e+04 8.77e+03]\n",
      " [1.46e+04 1.40e+04]\n",
      " [5.17e+03 5.31e+03]\n",
      " [4.47e+03 1.08e+04]\n",
      " [7.91e+03 6.28e+03]\n",
      " [1.34e+03 1.97e+03]\n",
      " [7.86e+03 6.75e+03]\n",
      " [4.42e+03 5.35e+03]\n",
      " [1.29e+04 1.40e+04]\n",
      " [4.24e+03 6.88e+03]\n",
      " [1.01e+04 6.20e+03]\n",
      " [7.20e+03 7.99e+03]\n",
      " [9.30e+03 8.28e+03]\n",
      " [2.40e+03 3.21e+03]\n",
      " [1.32e+04 1.18e+04]\n",
      " [1.69e+04 1.42e+04]\n",
      " [1.49e+04 1.23e+04]\n",
      " [1.06e+04 1.18e+04]\n",
      " [5.29e+03 6.65e+03]\n",
      " [2.23e+03 2.14e+03]\n",
      " [1.94e+03 1.13e+03]\n",
      " [1.35e+04 8.34e+03]\n",
      " [1.41e+04 1.22e+04]\n",
      " [5.02e+03 4.56e+03]\n",
      " [3.76e+03 1.76e+04]\n",
      " [9.49e+03 6.88e+03]\n",
      " [9.98e+03 9.45e+03]\n",
      " [2.83e+04 3.43e+04]\n",
      " [7.65e+03 6.07e+03]\n",
      " [1.05e+04 1.17e+04]\n",
      " [6.32e+03 5.38e+03]\n",
      " [2.99e+04 3.75e+04]\n",
      " [1.11e+04 7.37e+03]\n",
      " [7.51e+03 7.33e+03]\n",
      " [1.02e+04 8.41e+03]\n",
      " [1.22e+04 1.05e+04]\n",
      " [3.01e+03 3.28e+03]\n",
      " [1.09e+04 7.73e+03]\n",
      " [1.54e+03 2.73e+03]\n",
      " [7.04e+03 6.86e+03]\n",
      " [2.84e+04 1.95e+04]\n",
      " [3.87e+04 4.73e+04]\n",
      " [6.37e+03 3.99e+03]\n",
      " [8.19e+03 3.24e+03]\n",
      " [2.54e+03 7.32e+03]\n",
      " [4.47e+02 1.70e+03]\n",
      " [1.06e+04 7.45e+03]\n",
      " [4.21e+03 1.63e+03]\n",
      " [4.96e+03 4.88e+03]\n",
      " [2.34e+03 3.56e+03]\n",
      " [6.81e+03 8.61e+03]\n",
      " [3.34e+04 2.45e+04]\n",
      " [3.82e+04 4.57e+04]\n",
      " [1.48e+04 1.50e+04]\n",
      " [8.28e+03 6.66e+03]\n",
      " [1.61e+04 2.07e+04]\n",
      " [3.29e+04 4.09e+04]\n",
      " [9.47e+03 9.50e+03]]\n"
     ]
    }
   ]
  },
  {
   "cell_type": "markdown",
   "metadata": {
    "id": "50DZZy0UyhLi",
    "colab_type": "text",
    "pycharm": {
     "name": "#%% md\n"
    }
   },
   "source": [
    "## Evaluating the Model Performance"
   ]
  },
  {
   "cell_type": "code",
   "metadata": {
    "id": "xPagAOKDywV4",
    "colab_type": "code",
    "colab": {},
    "pycharm": {
     "name": "#%%\n"
    }
   },
   "source": [
    "from sklearn.metrics import r2_score\n",
    "r2_score(y_test, y_pred)"
   ],
   "execution_count": 23,
   "outputs": [
    {
     "data": {
      "text/plain": "0.7999876970680434"
     },
     "execution_count": 23,
     "metadata": {},
     "output_type": "execute_result"
    }
   ]
  }
 ]
}