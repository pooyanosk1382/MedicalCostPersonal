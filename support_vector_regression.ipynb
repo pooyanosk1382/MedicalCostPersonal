{
 "nbformat": 4,
 "nbformat_minor": 0,
 "metadata": {
  "colab": {
   "provenance": [],
   "collapsed_sections": []
  },
  "kernelspec": {
   "name": "python3",
   "display_name": "Python 3"
  }
 },
 "cells": [
  {
   "cell_type": "markdown",
   "metadata": {
    "id": "m3PAEPRDRLA3",
    "pycharm": {
     "name": "#%% md\n"
    }
   },
   "source": [
    "# Support Vector Regression (SVR)"
   ]
  },
  {
   "cell_type": "markdown",
   "metadata": {
    "id": "0VCUAVIjRdzZ",
    "pycharm": {
     "name": "#%% md\n"
    }
   },
   "source": [
    "## Importing the libraries"
   ]
  },
  {
   "cell_type": "code",
   "metadata": {
    "id": "56oRF-QfSDzC",
    "pycharm": {
     "name": "#%%\n"
    }
   },
   "source": [
    "import numpy as np\n",
    "import matplotlib.pyplot as plt\n",
    "import pandas as pd"
   ],
   "execution_count": 1,
   "outputs": []
  },
  {
   "cell_type": "markdown",
   "metadata": {
    "id": "fXVXoFWtSF4_",
    "pycharm": {
     "name": "#%% md\n"
    }
   },
   "source": [
    "## Importing the dataset"
   ]
  },
  {
   "cell_type": "code",
   "metadata": {
    "id": "xfoa8OSORfHQ",
    "pycharm": {
     "name": "#%%\n"
    }
   },
   "source": [
    "dataset = pd.read_csv('insurance.csv')\n",
    "X = dataset.iloc[:, :-1].values\n",
    "y = dataset.iloc[:, -1].values"
   ],
   "execution_count": 2,
   "outputs": []
  },
  {
   "cell_type": "code",
   "metadata": {
    "id": "_8Ny1GfPiV3m",
    "pycharm": {
     "name": "#%%\n"
    }
   },
   "source": [
    "y = y.reshape(len(y),1)"
   ],
   "execution_count": 3,
   "outputs": []
  },
  {
   "cell_type": "markdown",
   "source": [
    "## Encoding categorical data"
   ],
   "metadata": {
    "collapsed": false,
    "pycharm": {
     "name": "#%% md\n"
    }
   }
  },
  {
   "cell_type": "code",
   "execution_count": 4,
   "outputs": [
    {
     "name": "stdout",
     "output_type": "stream",
     "text": [
      "[[0.0 0.0 0.0 ... 27.9 0 1]\n",
      " [0.0 0.0 1.0 ... 33.77 1 0]\n",
      " [0.0 0.0 1.0 ... 33.0 3 0]\n",
      " ...\n",
      " [0.0 0.0 1.0 ... 36.85 0 0]\n",
      " [0.0 0.0 0.0 ... 25.8 0 0]\n",
      " [0.0 1.0 0.0 ... 29.07 0 1]]\n"
     ]
    }
   ],
   "source": [
    "from sklearn.compose import ColumnTransformer\n",
    "from sklearn.preprocessing import LabelEncoder\n",
    "from sklearn.preprocessing import OneHotEncoder\n",
    "le = LabelEncoder()\n",
    "X[:, 1] = le.fit_transform(X[:, 1])\n",
    "X[:, 4] = le.fit_transform(X[:, 4])\n",
    "ct = ColumnTransformer(transformers=[('encoder', OneHotEncoder(), [5])], remainder='passthrough')\n",
    "X = np.array(ct.fit_transform(X))\n",
    "print(X)"
   ],
   "metadata": {
    "collapsed": false,
    "pycharm": {
     "name": "#%%\n"
    }
   }
  },
  {
   "cell_type": "markdown",
   "metadata": {
    "id": "6Vk3nNlrCVCN",
    "pycharm": {
     "name": "#%% md\n"
    }
   },
   "source": [
    "## Splitting the dataset into the Training set and Test set"
   ]
  },
  {
   "cell_type": "code",
   "metadata": {
    "id": "x_fXqrziCV3_",
    "pycharm": {
     "name": "#%%\n"
    }
   },
   "source": [
    "from sklearn.model_selection import train_test_split\n",
    "X_train, X_test, y_train, y_test = train_test_split(X, y, test_size = 0.2, random_state = 0)"
   ],
   "execution_count": 5,
   "outputs": []
  },
  {
   "cell_type": "markdown",
   "metadata": {
    "id": "YS8FeLHYS-nI",
    "pycharm": {
     "name": "#%% md\n"
    }
   },
   "source": [
    "## Feature Scaling"
   ]
  },
  {
   "cell_type": "code",
   "metadata": {
    "id": "PGeAlD1HTDI1",
    "pycharm": {
     "name": "#%%\n"
    }
   },
   "source": [
    "from sklearn.preprocessing import StandardScaler\n",
    "sc_X = StandardScaler()\n",
    "sc_y = StandardScaler()\n",
    "X_train = sc_X.fit_transform(X_train)\n",
    "y_train = sc_y.fit_transform(y_train)"
   ],
   "execution_count": 6,
   "outputs": []
  },
  {
   "cell_type": "markdown",
   "metadata": {
    "id": "eiU6D2QFRjxY",
    "pycharm": {
     "name": "#%% md\n"
    }
   },
   "source": [
    "## Training the SVR model on the Training set"
   ]
  },
  {
   "cell_type": "code",
   "metadata": {
    "id": "y6R4rt_GRz15",
    "colab": {
     "base_uri": "https://localhost:8080/"
    },
    "outputId": "101e27f8-4437-4c06-e1a9-66d1f6ceb313",
    "pycharm": {
     "name": "#%%\n"
    }
   },
   "source": [
    "from sklearn.svm import SVR\n",
    "regressor = SVR(kernel = 'rbf')\n",
    "regressor.fit(X_train, y_train)"
   ],
   "execution_count": 7,
   "outputs": [
    {
     "name": "stderr",
     "output_type": "stream",
     "text": [
      "C:\\Users\\Lenovo\\AppData\\Local\\Programs\\Python\\Python311\\Lib\\site-packages\\sklearn\\utils\\validation.py:1143: DataConversionWarning: A column-vector y was passed when a 1d array was expected. Please change the shape of y to (n_samples, ), for example using ravel().\n",
      "  y = column_or_1d(y, warn=True)\n"
     ]
    },
    {
     "data": {
      "text/plain": "SVR()",
      "text/html": "<style>#sk-container-id-1 {color: black;background-color: white;}#sk-container-id-1 pre{padding: 0;}#sk-container-id-1 div.sk-toggleable {background-color: white;}#sk-container-id-1 label.sk-toggleable__label {cursor: pointer;display: block;width: 100%;margin-bottom: 0;padding: 0.3em;box-sizing: border-box;text-align: center;}#sk-container-id-1 label.sk-toggleable__label-arrow:before {content: \"▸\";float: left;margin-right: 0.25em;color: #696969;}#sk-container-id-1 label.sk-toggleable__label-arrow:hover:before {color: black;}#sk-container-id-1 div.sk-estimator:hover label.sk-toggleable__label-arrow:before {color: black;}#sk-container-id-1 div.sk-toggleable__content {max-height: 0;max-width: 0;overflow: hidden;text-align: left;background-color: #f0f8ff;}#sk-container-id-1 div.sk-toggleable__content pre {margin: 0.2em;color: black;border-radius: 0.25em;background-color: #f0f8ff;}#sk-container-id-1 input.sk-toggleable__control:checked~div.sk-toggleable__content {max-height: 200px;max-width: 100%;overflow: auto;}#sk-container-id-1 input.sk-toggleable__control:checked~label.sk-toggleable__label-arrow:before {content: \"▾\";}#sk-container-id-1 div.sk-estimator input.sk-toggleable__control:checked~label.sk-toggleable__label {background-color: #d4ebff;}#sk-container-id-1 div.sk-label input.sk-toggleable__control:checked~label.sk-toggleable__label {background-color: #d4ebff;}#sk-container-id-1 input.sk-hidden--visually {border: 0;clip: rect(1px 1px 1px 1px);clip: rect(1px, 1px, 1px, 1px);height: 1px;margin: -1px;overflow: hidden;padding: 0;position: absolute;width: 1px;}#sk-container-id-1 div.sk-estimator {font-family: monospace;background-color: #f0f8ff;border: 1px dotted black;border-radius: 0.25em;box-sizing: border-box;margin-bottom: 0.5em;}#sk-container-id-1 div.sk-estimator:hover {background-color: #d4ebff;}#sk-container-id-1 div.sk-parallel-item::after {content: \"\";width: 100%;border-bottom: 1px solid gray;flex-grow: 1;}#sk-container-id-1 div.sk-label:hover label.sk-toggleable__label {background-color: #d4ebff;}#sk-container-id-1 div.sk-serial::before {content: \"\";position: absolute;border-left: 1px solid gray;box-sizing: border-box;top: 0;bottom: 0;left: 50%;z-index: 0;}#sk-container-id-1 div.sk-serial {display: flex;flex-direction: column;align-items: center;background-color: white;padding-right: 0.2em;padding-left: 0.2em;position: relative;}#sk-container-id-1 div.sk-item {position: relative;z-index: 1;}#sk-container-id-1 div.sk-parallel {display: flex;align-items: stretch;justify-content: center;background-color: white;position: relative;}#sk-container-id-1 div.sk-item::before, #sk-container-id-1 div.sk-parallel-item::before {content: \"\";position: absolute;border-left: 1px solid gray;box-sizing: border-box;top: 0;bottom: 0;left: 50%;z-index: -1;}#sk-container-id-1 div.sk-parallel-item {display: flex;flex-direction: column;z-index: 1;position: relative;background-color: white;}#sk-container-id-1 div.sk-parallel-item:first-child::after {align-self: flex-end;width: 50%;}#sk-container-id-1 div.sk-parallel-item:last-child::after {align-self: flex-start;width: 50%;}#sk-container-id-1 div.sk-parallel-item:only-child::after {width: 0;}#sk-container-id-1 div.sk-dashed-wrapped {border: 1px dashed gray;margin: 0 0.4em 0.5em 0.4em;box-sizing: border-box;padding-bottom: 0.4em;background-color: white;}#sk-container-id-1 div.sk-label label {font-family: monospace;font-weight: bold;display: inline-block;line-height: 1.2em;}#sk-container-id-1 div.sk-label-container {text-align: center;}#sk-container-id-1 div.sk-container {/* jupyter's `normalize.less` sets `[hidden] { display: none; }` but bootstrap.min.css set `[hidden] { display: none !important; }` so we also need the `!important` here to be able to override the default hidden behavior on the sphinx rendered scikit-learn.org. See: https://github.com/scikit-learn/scikit-learn/issues/21755 */display: inline-block !important;position: relative;}#sk-container-id-1 div.sk-text-repr-fallback {display: none;}</style><div id=\"sk-container-id-1\" class=\"sk-top-container\"><div class=\"sk-text-repr-fallback\"><pre>SVR()</pre><b>In a Jupyter environment, please rerun this cell to show the HTML representation or trust the notebook. <br />On GitHub, the HTML representation is unable to render, please try loading this page with nbviewer.org.</b></div><div class=\"sk-container\" hidden><div class=\"sk-item\"><div class=\"sk-estimator sk-toggleable\"><input class=\"sk-toggleable__control sk-hidden--visually\" id=\"sk-estimator-id-1\" type=\"checkbox\" checked><label for=\"sk-estimator-id-1\" class=\"sk-toggleable__label sk-toggleable__label-arrow\">SVR</label><div class=\"sk-toggleable__content\"><pre>SVR()</pre></div></div></div></div></div>"
     },
     "execution_count": 7,
     "metadata": {},
     "output_type": "execute_result"
    }
   ]
  },
  {
   "cell_type": "markdown",
   "metadata": {
    "id": "aPYA5W1pDBOE",
    "pycharm": {
     "name": "#%% md\n"
    }
   },
   "source": [
    "## Predicting the Test set results"
   ]
  },
  {
   "cell_type": "code",
   "metadata": {
    "id": "vSqFVDYrDROW",
    "colab": {
     "base_uri": "https://localhost:8080/"
    },
    "outputId": "c536ab2a-e7f5-4eab-c99c-0231eb1d7743",
    "pycharm": {
     "name": "#%%\n"
    }
   },
   "source": [
    "y_pred = sc_y.inverse_transform(regressor.predict(sc_X.transform(X_test)).reshape(-1,1))\n",
    "np.set_printoptions(precision=2)\n",
    "print(np.concatenate((y_pred.reshape(len(y_pred),1), y_test.reshape(len(y_test),1)),1))"
   ],
   "execution_count": 8,
   "outputs": [
    {
     "name": "stdout",
     "output_type": "stream",
     "text": [
      "[[10896.96  9724.53]\n",
      " [ 9524.93  8547.69]\n",
      " [47362.77 45702.02]\n",
      " [13670.9  12950.07]\n",
      " [11268.14  9644.25]\n",
      " [ 5014.06  4500.34]\n",
      " [ 3322.2   2198.19]\n",
      " [12606.83 11436.74]\n",
      " [ 8480.38  7537.16]\n",
      " [ 6398.07  5425.02]\n",
      " [ 8357.88  6753.04]\n",
      " [11595.07 10493.95]\n",
      " [ 8452.83  7337.75]\n",
      " [ 5287.92  4185.1 ]\n",
      " [22049.35 18310.74]\n",
      " [12061.44 10702.64]\n",
      " [13454.23 12523.6 ]\n",
      " [ 4638.55  3490.55]\n",
      " [ 7552.08  6457.84]\n",
      " [25546.84 33475.82]\n",
      " [23810.43 23967.38]\n",
      " [13817.47 12643.38]\n",
      " [11387.17 23045.57]\n",
      " [27783.   23065.42]\n",
      " [ 2744.04  1674.63]\n",
      " [ 5988.94  4667.61]\n",
      " [ 5107.6   3732.63]\n",
      " [ 8898.42  7682.67]\n",
      " [ 4764.53  3756.62]\n",
      " [ 9652.9   8413.46]\n",
      " [ 8960.92  8059.68]\n",
      " [49171.25 48970.25]\n",
      " [13979.42 12979.36]\n",
      " [11414.25 20630.28]\n",
      " [14713.4  14571.89]\n",
      " [ 5265.39  4137.52]\n",
      " [ 9446.45  8347.16]\n",
      " [40244.38 51194.56]\n",
      " [39225.05 40003.33]\n",
      " [ 3029.13  1880.49]\n",
      " [ 6722.84  5458.05]\n",
      " [ 3692.06  2867.12]\n",
      " [24062.89 20149.32]\n",
      " [46152.95 47496.49]\n",
      " [33740.13 36149.48]\n",
      " [ 4799.92 26018.95]\n",
      " [12044.41 19749.38]\n",
      " [ 8019.92  6940.91]\n",
      " [ 5680.99  4718.2 ]\n",
      " [12950.64 22192.44]\n",
      " [ 3960.75  2899.49]\n",
      " [ 5248.6  18838.7 ]\n",
      " [30909.45 23568.27]\n",
      " [43732.17 46255.11]\n",
      " [12990.48 24227.34]\n",
      " [ 4781.27  3268.85]\n",
      " [ 3380.33  2322.62]\n",
      " [10025.4   8827.21]\n",
      " [10026.54 14478.33]\n",
      " [14154.25 13112.6 ]\n",
      " [ 2355.27  1253.94]\n",
      " [37797.88 46718.16]\n",
      " [14960.34 13919.82]\n",
      " [10878.07  9630.4 ]\n",
      " [13144.66 10736.87]\n",
      " [10854.41  9880.07]\n",
      " [23209.87 32548.34]\n",
      " [33863.64 38746.36]\n",
      " [ 4296.83  3180.51]\n",
      " [ 8832.23  8162.72]\n",
      " [13947.27 13041.92]\n",
      " [12572.38 11554.22]\n",
      " [21391.86 16232.85]\n",
      " [14711.15 13887.97]\n",
      " [13916.89 13012.21]\n",
      " [13810.05 13217.09]\n",
      " [ 8361.06  7147.1 ]\n",
      " [ 8944.17  7731.43]\n",
      " [24437.45 20296.86]\n",
      " [46682.32 47403.88]\n",
      " [12602.03 11658.38]\n",
      " [45233.86 45863.21]\n",
      " [ 3210.66  2055.32]\n",
      " [ 8623.7   7441.05]\n",
      " [42716.63 41034.22]\n",
      " [21048.01 18972.49]\n",
      " [ 4204.88  3410.32]\n",
      " [ 3741.7   2699.57]\n",
      " [13156.87 12333.83]\n",
      " [38723.56 36837.47]\n",
      " [ 7755.28  6334.34]\n",
      " [11392.34 10214.64]\n",
      " [ 4249.91 17878.9 ]\n",
      " [ 9610.42  8515.76]\n",
      " [ 5813.54  4518.83]\n",
      " [ 6227.19  5148.55]\n",
      " [36364.73 42303.69]\n",
      " [32689.54 38998.55]\n",
      " [ 6386.68  5327.4 ]\n",
      " [11749.9  10602.39]\n",
      " [ 2835.55  1824.29]\n",
      " [ 6373.07  5377.46]\n",
      " [ 5304.35  4349.46]\n",
      " [36161.12 37742.58]\n",
      " [27658.57 32787.46]\n",
      " [ 4326.34  3353.47]\n",
      " [11488.64 10577.09]\n",
      " [ 4462.98  3556.92]\n",
      " [12877.85 11944.59]\n",
      " [42085.01 52590.83]\n",
      " [12988.75 12475.35]\n",
      " [ 5250.99  4266.17]\n",
      " [10429.85  9249.5 ]\n",
      " [26633.21 33732.69]\n",
      " [48955.56 48675.52]\n",
      " [ 8357.75  7729.65]\n",
      " [ 2927.09  1964.78]\n",
      " [ 9653.97  8444.47]\n",
      " [13504.62 12347.17]\n",
      " [10104.79  9301.89]\n",
      " [39863.57 42124.52]\n",
      " [11564.19  9991.04]\n",
      " [15289.83 14319.03]\n",
      " [ 8093.67  5428.73]\n",
      " [ 8785.9   7626.99]\n",
      " [ 5888.    4906.41]\n",
      " [27831.36 23401.31]\n",
      " [18735.28 21098.55]\n",
      " [46822.15 48173.36]\n",
      " [ 3310.43  1917.32]\n",
      " [ 9338.6   8219.2 ]\n",
      " [ 2862.27  1725.55]\n",
      " [ 6785.71  5976.83]\n",
      " [10523.34  9361.33]\n",
      " [33797.59 22144.03]\n",
      " [32665.87 35491.64]\n",
      " [20862.29 19515.54]\n",
      " [11236.2  10107.22]\n",
      " [22443.2  23244.79]\n",
      " [ 3701.72  2789.06]\n",
      " [ 3289.88  2261.57]\n",
      " [11755.36 10594.5 ]\n",
      " [10462.02  9304.7 ]\n",
      " [11578.88 10435.07]\n",
      " [ 5755.57  4894.75]\n",
      " [15057.01 14313.85]\n",
      " [13847.85 28287.9 ]\n",
      " [ 4852.56 14426.07]\n",
      " [ 2617.66  1627.28]\n",
      " [11930.6  25517.11]\n",
      " [ 7680.15  6555.07]\n",
      " [40958.16 39611.76]\n",
      " [11176.13  9964.06]\n",
      " [ 2647.75  1720.35]\n",
      " [ 3756.96  2730.11]\n",
      " [ 7338.27  6500.24]\n",
      " [ 3739.81  2643.27]\n",
      " [ 2614.23  1719.44]\n",
      " [11942.26 11085.59]\n",
      " [11231.51 10115.01]\n",
      " [ 6291.89  4846.92]\n",
      " [13714.16 12982.87]\n",
      " [13880.25 28923.14]\n",
      " [10378.25  9391.35]\n",
      " [ 5677.84  4544.23]\n",
      " [ 6744.53 17128.43]\n",
      " [14457.87 13844.51]\n",
      " [ 7462.32  6113.23]\n",
      " [ 4928.97  4441.21]\n",
      " [ 2825.34  1633.96]\n",
      " [ 5281.88  4058.71]\n",
      " [ 4954.83  4435.09]\n",
      " [ 9500.71  8310.84]\n",
      " [ 3063.53  1986.93]\n",
      " [ 5253.64  4260.74]\n",
      " [ 5756.33  4504.66]\n",
      " [ 4684.04  4428.89]\n",
      " [ 7054.1   6117.49]\n",
      " [36462.4  30184.94]\n",
      " [ 2554.24  1708.93]\n",
      " [12416.3  11187.66]\n",
      " [ 7716.47  6796.86]\n",
      " [12396.62 11356.66]\n",
      " [ 3526.28  2498.41]\n",
      " [ 5963.13 27375.9 ]\n",
      " [31080.84 28101.33]\n",
      " [ 3706.4   2254.8 ]\n",
      " [ 3591.17  2597.78]\n",
      " [15132.95 14692.67]\n",
      " [11589.27 10370.91]\n",
      " [37240.75 41097.16]\n",
      " [ 4841.77  3981.98]\n",
      " [ 6519.82  5472.45]\n",
      " [23114.56 21223.68]\n",
      " [ 3724.07  2534.39]\n",
      " [ 2924.91  1972.95]\n",
      " [ 7377.2   6406.41]\n",
      " [ 7941.4   6551.75]\n",
      " [ 5314.18  4058.12]\n",
      " [ 5174.01  4243.59]\n",
      " [12704.6  11512.41]\n",
      " [43600.35 46889.26]\n",
      " [13456.54 12268.63]\n",
      " [19536.19 19199.94]\n",
      " [ 5586.37  4433.39]\n",
      " [44338.39 42969.85]\n",
      " [ 4263.99 23241.47]\n",
      " [10400.41  9140.95]\n",
      " [ 6802.75  5836.52]\n",
      " [ 2265.1   1149.4 ]\n",
      " [ 9971.69  8765.25]\n",
      " [14657.01 14043.48]\n",
      " [ 6220.15  5312.17]\n",
      " [ 3370.26 10795.94]\n",
      " [ 7432.03  6282.23]\n",
      " [ 2880.72  1969.61]\n",
      " [ 7194.28  6746.74]\n",
      " [ 6348.06  5354.07]\n",
      " [15205.4  14001.29]\n",
      " [ 8368.05  6877.98]\n",
      " [ 6893.4   6196.45]\n",
      " [ 9004.1   7986.48]\n",
      " [ 9489.89  8277.52]\n",
      " [ 4193.62  3206.49]\n",
      " [12997.39 11848.14]\n",
      " [14662.82 14210.54]\n",
      " [13534.79 12265.51]\n",
      " [12800.61 11837.16]\n",
      " [ 8431.61  6652.53]\n",
      " [ 2948.6   2137.65]\n",
      " [ 2142.19  1131.51]\n",
      " [ 9500.98  8342.91]\n",
      " [13302.07 12244.53]\n",
      " [ 7032.57  4561.19]\n",
      " [ 5278.35 17626.24]\n",
      " [ 8065.73  6875.96]\n",
      " [10565.03  9447.38]\n",
      " [27459.96 34254.05]\n",
      " [ 6810.87  6067.13]\n",
      " [12369.33 11729.68]\n",
      " [ 6528.32  5383.54]\n",
      " [30756.98 37465.34]\n",
      " [ 8161.28  7371.77]\n",
      " [ 8544.27  7325.05]\n",
      " [ 9359.11  8410.05]\n",
      " [11719.95 10461.98]\n",
      " [ 3822.    3279.87]\n",
      " [ 8840.22  7727.25]\n",
      " [ 3723.62  2731.91]\n",
      " [ 7428.13  6858.48]\n",
      " [23937.06 19521.97]\n",
      " [41673.83 47305.31]\n",
      " [ 5036.55  3987.93]\n",
      " [ 3924.13  3238.44]\n",
      " [ 3388.68  7323.73]\n",
      " [ 2228.42  1704.57]\n",
      " [ 8575.12  7445.92]\n",
      " [ 2840.91  1629.83]\n",
      " [ 5724.75  4877.98]\n",
      " [ 4246.38  3561.89]\n",
      " [10350.56  8605.36]\n",
      " [31758.73 24520.26]\n",
      " [39007.01 45710.21]\n",
      " [15725.32 15019.76]\n",
      " [ 7755.19  6664.69]\n",
      " [12205.3  20709.02]\n",
      " [38331.31 40932.43]\n",
      " [ 9726.68  9500.57]]\n"
     ]
    }
   ]
  },
  {
   "cell_type": "markdown",
   "metadata": {
    "id": "CMsYlps2DX1d",
    "pycharm": {
     "name": "#%% md\n"
    }
   },
   "source": [
    "## Evaluating the Model Performance"
   ]
  },
  {
   "cell_type": "code",
   "metadata": {
    "id": "HxsRWlURDr6S",
    "colab": {
     "base_uri": "https://localhost:8080/"
    },
    "outputId": "926a31e5-5cbc-4b56-fac3-4971581af8b8",
    "pycharm": {
     "name": "#%%\n"
    }
   },
   "source": [
    "from sklearn.metrics import r2_score\n",
    "r2_score(y_test, y_pred)"
   ],
   "execution_count": 9,
   "outputs": [
    {
     "data": {
      "text/plain": "0.8869426522677151"
     },
     "execution_count": 9,
     "metadata": {},
     "output_type": "execute_result"
    }
   ]
  }
 ]
}